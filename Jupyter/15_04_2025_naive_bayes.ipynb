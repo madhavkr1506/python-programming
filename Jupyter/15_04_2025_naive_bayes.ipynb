{
 "cells": [
  {
   "cell_type": "code",
   "execution_count": 64,
   "id": "297a5f29",
   "metadata": {},
   "outputs": [
    {
     "name": "stdout",
     "output_type": "stream",
     "text": [
      "Requirement already satisfied: scikit-learn in d:\\python\\myenv\\lib\\site-packages (1.6.1)\n",
      "Requirement already satisfied: numpy>=1.19.5 in d:\\python\\myenv\\lib\\site-packages (from scikit-learn) (2.2.4)\n",
      "Requirement already satisfied: scipy>=1.6.0 in d:\\python\\myenv\\lib\\site-packages (from scikit-learn) (1.15.2)\n",
      "Requirement already satisfied: joblib>=1.2.0 in d:\\python\\myenv\\lib\\site-packages (from scikit-learn) (1.4.2)\n",
      "Requirement already satisfied: threadpoolctl>=3.1.0 in d:\\python\\myenv\\lib\\site-packages (from scikit-learn) (3.6.0)\n",
      "Note: you may need to restart the kernel to use updated packages.\n"
     ]
    }
   ],
   "source": [
    "%pip install scikit-learn"
   ]
  },
  {
   "cell_type": "code",
   "execution_count": 156,
   "id": "2b6d388b",
   "metadata": {},
   "outputs": [],
   "source": [
    "import os\n",
    "import pandas as pd\n",
    "import ast\n",
    "from sklearn.model_selection import train_test_split\n",
    "from sklearn.preprocessing import MultiLabelBinarizer\n",
    "from sklearn.naive_bayes import MultinomialNB\n",
    "from sklearn.feature_extraction.text import CountVectorizer\n",
    "from sklearn.metrics import classification_report"
   ]
  },
  {
   "cell_type": "code",
   "execution_count": 66,
   "id": "8f66ec5a",
   "metadata": {},
   "outputs": [
    {
     "name": "stdout",
     "output_type": "stream",
     "text": [
      "d:\\Python\n",
      "d:\\Python\\movies\\movies_genres.csv\n",
      "d:\\Python\\movies\\movies_overview.csv\n"
     ]
    }
   ],
   "source": [
    "current_dir = os.getcwd()\n",
    "print(current_dir)\n",
    "\n",
    "filepath_movies_genres = os.path.join(current_dir, \"movies\", \"movies_genres.csv\")\n",
    "filepath_movies_overview = os.path.join(current_dir, \"movies\", \"movies_overview.csv\")\n",
    "\n",
    "print(filepath_movies_genres)\n",
    "print(filepath_movies_overview)"
   ]
  },
  {
   "cell_type": "code",
   "execution_count": 67,
   "id": "831b0423",
   "metadata": {},
   "outputs": [
    {
     "name": "stdout",
     "output_type": "stream",
     "text": [
      "Index(['id', 'name'], dtype='object')\n"
     ]
    }
   ],
   "source": [
    "read_genres = pd.read_csv(filepath_movies_genres)\n",
    "print(read_genres.columns)"
   ]
  },
  {
   "cell_type": "code",
   "execution_count": 68,
   "id": "93c5571b",
   "metadata": {},
   "outputs": [
    {
     "name": "stdout",
     "output_type": "stream",
     "text": [
      "                 id\n",
      "count     19.000000\n",
      "mean    3389.736842\n",
      "std     4980.456972\n",
      "min       12.000000\n",
      "25%       27.500000\n",
      "50%       53.000000\n",
      "75%    10025.000000\n",
      "max    10770.000000\n"
     ]
    }
   ],
   "source": [
    "print(read_genres.describe())"
   ]
  },
  {
   "cell_type": "code",
   "execution_count": 69,
   "id": "857dc026",
   "metadata": {},
   "outputs": [
    {
     "name": "stdout",
     "output_type": "stream",
     "text": [
      "   id       name\n",
      "0  28     Action\n",
      "1  12  Adventure\n",
      "2  16  Animation\n",
      "3  35     Comedy\n"
     ]
    }
   ],
   "source": [
    "print(read_genres.head(4))"
   ]
  },
  {
   "cell_type": "code",
   "execution_count": 70,
   "id": "866448f1",
   "metadata": {},
   "outputs": [
    {
     "name": "stdout",
     "output_type": "stream",
     "text": [
      "0\n",
      "0\n"
     ]
    }
   ],
   "source": [
    "print(read_genres['id'].isna().sum())\n",
    "print(read_genres['name'].isna().sum())"
   ]
  },
  {
   "cell_type": "code",
   "execution_count": 71,
   "id": "53baaacc",
   "metadata": {},
   "outputs": [
    {
     "name": "stdout",
     "output_type": "stream",
     "text": [
      "<class 'pandas.core.frame.DataFrame'>\n"
     ]
    }
   ],
   "source": [
    "print(type(read_genres))"
   ]
  },
  {
   "cell_type": "code",
   "execution_count": 72,
   "id": "471fbc90",
   "metadata": {},
   "outputs": [
    {
     "name": "stdout",
     "output_type": "stream",
     "text": [
      "Index(['title', 'overview', 'genre_ids'], dtype='object')\n"
     ]
    }
   ],
   "source": [
    "read_overview = pd.read_csv(filepath_movies_overview)\n",
    "print(read_overview.columns)"
   ]
  },
  {
   "cell_type": "code",
   "execution_count": 73,
   "id": "ace4be7a",
   "metadata": {},
   "outputs": [
    {
     "name": "stdout",
     "output_type": "stream",
     "text": [
      "<class 'pandas.core.frame.DataFrame'>\n"
     ]
    }
   ],
   "source": [
    "print(type(read_overview))"
   ]
  },
  {
   "cell_type": "code",
   "execution_count": 74,
   "id": "8f994a92",
   "metadata": {},
   "outputs": [
    {
     "name": "stdout",
     "output_type": "stream",
     "text": [
      "                      title  \\\n",
      "0  The Shawshank Redemption   \n",
      "1             The Godfather   \n",
      "2     The Godfather Part II   \n",
      "3          Schindler's List   \n",
      "\n",
      "                                            overview        genre_ids  \n",
      "0  Imprisoned in the 1940s for the double murder ...         [18, 80]  \n",
      "1  Spanning the years 1945 to 1955, a chronicle o...         [18, 80]  \n",
      "2  In the continuing saga of the Corleone crime f...         [18, 80]  \n",
      "3  The true story of how businessman Oskar Schind...  [18, 36, 10752]  \n"
     ]
    }
   ],
   "source": [
    "print(read_overview.head(4))"
   ]
  },
  {
   "cell_type": "code",
   "execution_count": 75,
   "id": "5a31cb2f",
   "metadata": {},
   "outputs": [
    {
     "name": "stdout",
     "output_type": "stream",
     "text": [
      "0\n",
      "0\n",
      "0\n"
     ]
    }
   ],
   "source": [
    "print(read_overview['genre_ids'].isna().sum())\n",
    "print(read_overview['overview'].isna().sum())\n",
    "print(read_overview['title'].isna().sum())"
   ]
  },
  {
   "cell_type": "code",
   "execution_count": 76,
   "id": "120d05c8",
   "metadata": {},
   "outputs": [
    {
     "name": "stdout",
     "output_type": "stream",
     "text": [
      "                      title  \\\n",
      "0  The Shawshank Redemption   \n",
      "1             The Godfather   \n",
      "2     The Godfather Part II   \n",
      "3          Schindler's List   \n",
      "\n",
      "                                            overview        genre_ids  \n",
      "0  Imprisoned in the 1940s for the double murder ...         [18, 80]  \n",
      "1  Spanning the years 1945 to 1955, a chronicle o...         [18, 80]  \n",
      "2  In the continuing saga of the Corleone crime f...         [18, 80]  \n",
      "3  The true story of how businessman Oskar Schind...  [18, 36, 10752]  \n",
      "   id       name\n",
      "0  28     Action\n",
      "1  12  Adventure\n",
      "2  16  Animation\n",
      "3  35     Comedy\n"
     ]
    }
   ],
   "source": [
    "print(read_overview.head(4))\n",
    "print(read_genres.head(4))"
   ]
  },
  {
   "cell_type": "code",
   "execution_count": 77,
   "id": "0f6de228",
   "metadata": {},
   "outputs": [
    {
     "name": "stdout",
     "output_type": "stream",
     "text": [
      "<class 'pandas.core.frame.DataFrame'>\n",
      "38\n"
     ]
    }
   ],
   "source": [
    "print(type(read_genres))\n",
    "print(read_genres.size)"
   ]
  },
  {
   "cell_type": "code",
   "execution_count": 78,
   "id": "d8ce79eb",
   "metadata": {},
   "outputs": [
    {
     "name": "stdout",
     "output_type": "stream",
     "text": [
      "<class 'pandas.core.frame.DataFrame'>\n",
      "29940\n"
     ]
    }
   ],
   "source": [
    "print(type(read_overview))\n",
    "print(read_overview.size)"
   ]
  },
  {
   "cell_type": "code",
   "execution_count": 79,
   "id": "da17d252",
   "metadata": {},
   "outputs": [
    {
     "name": "stdout",
     "output_type": "stream",
     "text": [
      "                                           title  \\\n",
      "0                       The Shawshank Redemption   \n",
      "1                                  The Godfather   \n",
      "2                          The Godfather Part II   \n",
      "16                                    GoodFellas   \n",
      "23                                   City of God   \n",
      "28                   Once Upon a Time in America   \n",
      "241                     The Young and the Damned   \n",
      "319                          Catch Me If You Can   \n",
      "334                                Trainspotting   \n",
      "481                           Dancer in the Dark   \n",
      "482                                 A Bronx Tale   \n",
      "623                                      Polisse   \n",
      "1002                                     Brother   \n",
      "1046                           American Gangster   \n",
      "1076                              Scarlet Street   \n",
      "1233                                  Breathless   \n",
      "1317                                  The Insult   \n",
      "1360                Once Upon a Time in Anatolia   \n",
      "1366                            Midnight Express   \n",
      "1390                             A Perfect World   \n",
      "1400                             This Is England   \n",
      "1424                         Birdman of Alcatraz   \n",
      "1549                            The Unforgivable   \n",
      "1557                                 Miss Sloane   \n",
      "1636                                    El Angel   \n",
      "1666                                   Leviathan   \n",
      "1677                      The Basketball Diaries   \n",
      "1759                               Bad Education   \n",
      "1860                                      Cherry   \n",
      "2709                                Molly's Game   \n",
      "2866                            Drugstore Cowboy   \n",
      "3017                                Mean Streets   \n",
      "3141                                 7 Prisoners   \n",
      "3316  Extremely Wicked, Shockingly Evil and Vile   \n",
      "3336                                    Rounders   \n",
      "3480                  The Place Beyond the Pines   \n",
      "3686                                 Street Flow   \n",
      "3795                                 Kids Return   \n",
      "3805                                The Woodsman   \n",
      "3822                                 In the Fade   \n",
      "3825                                         SK1   \n",
      "3892                                    Gomorrah   \n",
      "3897                                        Kids   \n",
      "3931                                  Hard Eight   \n",
      "4033                             American Hustle   \n",
      "4086                                    Piranhas   \n",
      "4178                          Siberian Education   \n",
      "4331                                    The Drop   \n",
      "4487                                 In Her Name   \n",
      "4827                                          21   \n",
      "5015                                Frozen River   \n",
      "5057                           Hot Summer Nights   \n",
      "5986     Things to Do in Denver When You're Dead   \n",
      "7245  Bad Lieutenant: Port of Call - New Orleans   \n",
      "7696             Wall Street: Money Never Sleeps   \n",
      "8466                            London Boulevard   \n",
      "9417                              The Bling Ring   \n",
      "9647                             Spring Breakers   \n",
      "\n",
      "                                               overview genre_ids  \n",
      "0     Imprisoned in the 1940s for the double murder ...  [18, 80]  \n",
      "1     Spanning the years 1945 to 1955, a chronicle o...  [18, 80]  \n",
      "2     In the continuing saga of the Corleone crime f...  [18, 80]  \n",
      "16    The true story of Henry Hill, a half-Irish, ha...  [18, 80]  \n",
      "23    In the poverty-stricken favelas of Rio de Jane...  [18, 80]  \n",
      "28    A former Prohibition-era Jewish gangster retur...  [18, 80]  \n",
      "241   A group of juvenile delinquents live a violent...  [18, 80]  \n",
      "319   A true story about Frank Abagnale Jr. who, bef...  [18, 80]  \n",
      "334   Heroin addict Mark Renton stumbles through bad...  [18, 80]  \n",
      "481   Selma, a Czech immigrant on the verge of blind...  [18, 80]  \n",
      "482   Set in the Bronx during the tumultuous 1960s, ...  [18, 80]  \n",
      "623   Paris, France. Fred and his colleagues, member...  [18, 80]  \n",
      "1002  Danila goes to his successful brother, Victor,...  [18, 80]  \n",
      "1046  Following the death of his employer and mentor...  [18, 80]  \n",
      "1076  Cashier and part-time starving artist Christop...  [18, 80]  \n",
      "1233  A small-time thief steals a car and impulsivel...  [18, 80]  \n",
      "1317  After an emotional exchange between a Lebanese...  [18, 80]  \n",
      "1360  A group of men lead a search for a victim of a...  [18, 80]  \n",
      "1366  Billy Hayes is caught attempting to smuggle dr...  [18, 80]  \n",
      "1390  A kidnapped boy strikes up a friendship with h...  [18, 80]  \n",
      "1400  A story about a troubled boy growing up in Eng...  [18, 80]  \n",
      "1424  After killing a prison guard, convict Robert S...  [18, 80]  \n",
      "1549  A woman is released from prison after serving ...  [18, 80]  \n",
      "1557  An ambitious lobbyist faces off against the po...  [18, 80]  \n",
      "1636  Buenos Aires, Argentina, 1971. Carlos Robledo ...  [18, 80]  \n",
      "1666  In a Russian coastal town, Kolya is forced to ...  [18, 80]  \n",
      "1677  A high school basketball player’s life turns u...  [18, 80]  \n",
      "1759  An examination on the effect of Franco-era rel...  [18, 80]  \n",
      "1860  Cherry drifts from college dropout to army med...  [18, 80]  \n",
      "2709  Molly Bloom, a young skier and former Olympic ...  [18, 80]  \n",
      "2866  Portland, Oregon, 1971. Bob Hughes is the char...  [18, 80]  \n",
      "3017  A small-time hood must choose from among love,...  [18, 80]  \n",
      "3141  An impoverished teen seeking to escape the clu...  [18, 80]  \n",
      "3316  A chronicle of the crimes of Ted Bundy, from t...  [18, 80]  \n",
      "3336  A young reformed gambler must return to playin...  [18, 80]  \n",
      "3480  A motorcycle stunt rider considers committing ...  [18, 80]  \n",
      "3686  Noumouké, from the suburb of Paris, is about t...  [18, 80]  \n",
      "3795  Shinji and Masaru spend most of their school d...  [18, 80]  \n",
      "3805  After twelve years in prison, Walter returns h...  [18, 80]  \n",
      "3822  Katja's life collapses after the deaths of her...  [18, 80]  \n",
      "3825  The hunt, capture and trial of Guy Georges, on...  [18, 80]  \n",
      "3892  An inside look at Italy's modern-day crime fam...  [18, 80]  \n",
      "3897  A day in the life of a group of teens as they ...  [18, 80]  \n",
      "3931  A stranger mentors a young Reno gambler who we...  [18, 80]  \n",
      "4033  A conman and his seductive partner are forced ...  [18, 80]  \n",
      "4086  A gang of teenage boys stalk the streets of Na...  [18, 80]  \n",
      "4178  The story of a gang of children growing up in ...  [18, 80]  \n",
      "4331  Bob Saginowski finds himself at the center of ...  [18, 80]  \n",
      "4487  In 1982, André Bamberski learns about the deat...  [18, 80]  \n",
      "4827  Ben Campbell is a young, highly intelligent st...  [18, 80]  \n",
      "5015  After her husband deserts her, working-class m...  [18, 80]  \n",
      "5057  In 1991, a sheltered teenager comes of age dur...  [18, 80]  \n",
      "5986  Five different criminals face imminent death a...  [18, 80]  \n",
      "7245  Terrence McDonagh is a New Orleans Police serg...  [18, 80]  \n",
      "7696  As the global economy teeters on the brink of ...  [18, 80]  \n",
      "8466  A parolee falls for a reclusive movie star whi...  [18, 80]  \n",
      "9417  Inspired by actual events, a group of fame-obs...  [18, 80]  \n",
      "9647  After four college girls rob a restaurant to f...  [18, 80]  \n"
     ]
    }
   ],
   "source": [
    "print(read_overview[read_overview['genre_ids'].apply(lambda row : row == '[18, 80]')])"
   ]
  },
  {
   "cell_type": "code",
   "execution_count": 80,
   "id": "ca56740d",
   "metadata": {},
   "outputs": [],
   "source": [
    "read_overview['genre_ids'] = read_overview['genre_ids'].apply(ast.literal_eval)"
   ]
  },
  {
   "cell_type": "code",
   "execution_count": 81,
   "id": "d57934c2",
   "metadata": {},
   "outputs": [
    {
     "name": "stdout",
     "output_type": "stream",
     "text": [
      "<class 'pandas.core.frame.DataFrame'>\n",
      "RangeIndex: 9980 entries, 0 to 9979\n",
      "Data columns (total 3 columns):\n",
      " #   Column     Non-Null Count  Dtype \n",
      "---  ------     --------------  ----- \n",
      " 0   title      9980 non-null   object\n",
      " 1   overview   9980 non-null   object\n",
      " 2   genre_ids  9980 non-null   object\n",
      "dtypes: object(3)\n",
      "memory usage: 234.0+ KB\n",
      "None\n"
     ]
    }
   ],
   "source": [
    "print(read_overview.info())"
   ]
  },
  {
   "cell_type": "code",
   "execution_count": 82,
   "id": "5d7ddfd5",
   "metadata": {},
   "outputs": [
    {
     "name": "stdout",
     "output_type": "stream",
     "text": [
      "                         title  \\\n",
      "0     The Shawshank Redemption   \n",
      "1                The Godfather   \n",
      "2        The Godfather Part II   \n",
      "3             Schindler's List   \n",
      "4                 12 Angry Men   \n",
      "...                        ...   \n",
      "9944                Melissa P.   \n",
      "9954        Dragon Wars: D-War   \n",
      "9969                    Swiped   \n",
      "9976               The Fanatic   \n",
      "9977                    SPF-18   \n",
      "\n",
      "                                               overview  \\\n",
      "0     Imprisoned in the 1940s for the double murder ...   \n",
      "1     Spanning the years 1945 to 1955, a chronicle o...   \n",
      "2     In the continuing saga of the Corleone crime f...   \n",
      "3     The true story of how businessman Oskar Schind...   \n",
      "4     The defense and the prosecution have rested an...   \n",
      "...                                                 ...   \n",
      "9944  An adolescent girl, living with her mother and...   \n",
      "9954  Based on the Korean legend, unknown creatures ...   \n",
      "9969  James, a college freshman and computer genius,...   \n",
      "9976  A rabid film fan stalks his favorite action he...   \n",
      "9977  18-year-old Penny Cooper spent years pining fo...   \n",
      "\n",
      "                      genre_ids  \n",
      "0                      [18, 80]  \n",
      "1                      [18, 80]  \n",
      "2                      [18, 80]  \n",
      "3               [18, 36, 10752]  \n",
      "4                          [18]  \n",
      "...                         ...  \n",
      "9944                       [18]  \n",
      "9954  [14, 18, 27, 28, 53, 878]  \n",
      "9969            [35, 18, 10749]  \n",
      "9976                   [80, 53]  \n",
      "9977                [10749, 18]  \n",
      "\n",
      "[5290 rows x 3 columns]\n"
     ]
    }
   ],
   "source": [
    "print(read_overview[read_overview['genre_ids'].apply(lambda row : 18 in row or 80 in row)])"
   ]
  },
  {
   "cell_type": "code",
   "execution_count": 83,
   "id": "e918a8b0",
   "metadata": {},
   "outputs": [
    {
     "name": "stdout",
     "output_type": "stream",
     "text": [
      "0           [18, 80]\n",
      "1           [18, 80]\n",
      "2           [18, 80]\n",
      "3    [18, 36, 10752]\n",
      "Name: genre_ids, dtype: object\n"
     ]
    }
   ],
   "source": [
    "print(read_overview['genre_ids'].head(4))"
   ]
  },
  {
   "cell_type": "code",
   "execution_count": 84,
   "id": "97c29ac7",
   "metadata": {},
   "outputs": [
    {
     "name": "stdout",
     "output_type": "stream",
     "text": [
      "<class 'pandas.core.frame.DataFrame'>\n",
      "RangeIndex: 19 entries, 0 to 18\n",
      "Data columns (total 2 columns):\n",
      " #   Column  Non-Null Count  Dtype \n",
      "---  ------  --------------  ----- \n",
      " 0   id      19 non-null     int64 \n",
      " 1   name    19 non-null     object\n",
      "dtypes: int64(1), object(1)\n",
      "memory usage: 432.0+ bytes\n",
      "None\n"
     ]
    }
   ],
   "source": [
    "print(read_genres.info())"
   ]
  },
  {
   "cell_type": "code",
   "execution_count": 85,
   "id": "4402d1c3",
   "metadata": {},
   "outputs": [],
   "source": [
    "read_genres = dict(zip(read_genres['id'], read_genres['name']))"
   ]
  },
  {
   "cell_type": "code",
   "execution_count": 86,
   "id": "06d1390b",
   "metadata": {},
   "outputs": [
    {
     "name": "stdout",
     "output_type": "stream",
     "text": [
      "{28: 'Action', 12: 'Adventure', 16: 'Animation', 35: 'Comedy', 80: 'Crime', 99: 'Documentary', 18: 'Drama', 10751: 'Family', 14: 'Fantasy', 36: 'History', 27: 'Horror', 10402: 'Music', 9648: 'Mystery', 10749: 'Romance', 878: 'Science Fiction', 10770: 'TV Movie', 53: 'Thriller', 10752: 'War', 37: 'Western'}\n"
     ]
    }
   ],
   "source": [
    "print(read_genres)"
   ]
  },
  {
   "cell_type": "code",
   "execution_count": 87,
   "id": "f8854d17",
   "metadata": {},
   "outputs": [
    {
     "name": "stdout",
     "output_type": "stream",
     "text": [
      "<class 'dict'>\n"
     ]
    }
   ],
   "source": [
    "print(type(read_genres))"
   ]
  },
  {
   "cell_type": "code",
   "execution_count": 88,
   "id": "953c1b6e",
   "metadata": {},
   "outputs": [],
   "source": [
    "read_overview['genre_ids'] = read_overview['genre_ids'].apply(lambda row: [read_genres.get(id, 'Unknown') for id in row])"
   ]
  },
  {
   "cell_type": "code",
   "execution_count": 89,
   "id": "a0e43e07",
   "metadata": {},
   "outputs": [
    {
     "name": "stdout",
     "output_type": "stream",
     "text": [
      "                      title  \\\n",
      "0  The Shawshank Redemption   \n",
      "1             The Godfather   \n",
      "2     The Godfather Part II   \n",
      "3          Schindler's List   \n",
      "\n",
      "                                            overview              genre_ids  \n",
      "0  Imprisoned in the 1940s for the double murder ...         [Drama, Crime]  \n",
      "1  Spanning the years 1945 to 1955, a chronicle o...         [Drama, Crime]  \n",
      "2  In the continuing saga of the Corleone crime f...         [Drama, Crime]  \n",
      "3  The true story of how businessman Oskar Schind...  [Drama, History, War]  \n"
     ]
    }
   ],
   "source": [
    "print(read_overview.head(4))"
   ]
  },
  {
   "cell_type": "code",
   "execution_count": 141,
   "id": "fddc89b5",
   "metadata": {},
   "outputs": [
    {
     "name": "stdout",
     "output_type": "stream",
     "text": [
      "(9980,)\n"
     ]
    }
   ],
   "source": [
    "features = read_overview['overview']\n",
    "print(features.shape)"
   ]
  },
  {
   "cell_type": "code",
   "execution_count": 142,
   "id": "9cd87305",
   "metadata": {},
   "outputs": [
    {
     "name": "stdout",
     "output_type": "stream",
     "text": [
      "(9980,)\n"
     ]
    }
   ],
   "source": [
    "target = read_overview['genre_ids']\n",
    "print(target.shape)"
   ]
  },
  {
   "cell_type": "code",
   "execution_count": 143,
   "id": "ae9e0e3e",
   "metadata": {},
   "outputs": [],
   "source": [
    "vectorizer = CountVectorizer()"
   ]
  },
  {
   "cell_type": "code",
   "execution_count": 144,
   "id": "4902bba3",
   "metadata": {},
   "outputs": [],
   "source": [
    "features = vectorizer.fit_transform(features)"
   ]
  },
  {
   "cell_type": "code",
   "execution_count": 145,
   "id": "b05d0456",
   "metadata": {},
   "outputs": [],
   "source": [
    "mlb = MultiLabelBinarizer()"
   ]
  },
  {
   "cell_type": "code",
   "execution_count": 146,
   "id": "d5ddc61d",
   "metadata": {},
   "outputs": [],
   "source": [
    "target = mlb.fit_transform(target)"
   ]
  },
  {
   "cell_type": "code",
   "execution_count": 147,
   "id": "cca4484d",
   "metadata": {},
   "outputs": [],
   "source": [
    "x_train, x_test, y_train, y_test = train_test_split(features, target, test_size=0.2, random_state=42)"
   ]
  },
  {
   "cell_type": "code",
   "execution_count": 150,
   "id": "ebae53ca",
   "metadata": {},
   "outputs": [],
   "source": [
    "from sklearn.multiclass import OneVsRestClassifier\n",
    "model = OneVsRestClassifier(MultinomialNB())"
   ]
  },
  {
   "cell_type": "code",
   "execution_count": 151,
   "id": "02d3ba54",
   "metadata": {},
   "outputs": [
    {
     "data": {
      "text/html": [
       "<style>#sk-container-id-1 {\n",
       "  /* Definition of color scheme common for light and dark mode */\n",
       "  --sklearn-color-text: #000;\n",
       "  --sklearn-color-text-muted: #666;\n",
       "  --sklearn-color-line: gray;\n",
       "  /* Definition of color scheme for unfitted estimators */\n",
       "  --sklearn-color-unfitted-level-0: #fff5e6;\n",
       "  --sklearn-color-unfitted-level-1: #f6e4d2;\n",
       "  --sklearn-color-unfitted-level-2: #ffe0b3;\n",
       "  --sklearn-color-unfitted-level-3: chocolate;\n",
       "  /* Definition of color scheme for fitted estimators */\n",
       "  --sklearn-color-fitted-level-0: #f0f8ff;\n",
       "  --sklearn-color-fitted-level-1: #d4ebff;\n",
       "  --sklearn-color-fitted-level-2: #b3dbfd;\n",
       "  --sklearn-color-fitted-level-3: cornflowerblue;\n",
       "\n",
       "  /* Specific color for light theme */\n",
       "  --sklearn-color-text-on-default-background: var(--sg-text-color, var(--theme-code-foreground, var(--jp-content-font-color1, black)));\n",
       "  --sklearn-color-background: var(--sg-background-color, var(--theme-background, var(--jp-layout-color0, white)));\n",
       "  --sklearn-color-border-box: var(--sg-text-color, var(--theme-code-foreground, var(--jp-content-font-color1, black)));\n",
       "  --sklearn-color-icon: #696969;\n",
       "\n",
       "  @media (prefers-color-scheme: dark) {\n",
       "    /* Redefinition of color scheme for dark theme */\n",
       "    --sklearn-color-text-on-default-background: var(--sg-text-color, var(--theme-code-foreground, var(--jp-content-font-color1, white)));\n",
       "    --sklearn-color-background: var(--sg-background-color, var(--theme-background, var(--jp-layout-color0, #111)));\n",
       "    --sklearn-color-border-box: var(--sg-text-color, var(--theme-code-foreground, var(--jp-content-font-color1, white)));\n",
       "    --sklearn-color-icon: #878787;\n",
       "  }\n",
       "}\n",
       "\n",
       "#sk-container-id-1 {\n",
       "  color: var(--sklearn-color-text);\n",
       "}\n",
       "\n",
       "#sk-container-id-1 pre {\n",
       "  padding: 0;\n",
       "}\n",
       "\n",
       "#sk-container-id-1 input.sk-hidden--visually {\n",
       "  border: 0;\n",
       "  clip: rect(1px 1px 1px 1px);\n",
       "  clip: rect(1px, 1px, 1px, 1px);\n",
       "  height: 1px;\n",
       "  margin: -1px;\n",
       "  overflow: hidden;\n",
       "  padding: 0;\n",
       "  position: absolute;\n",
       "  width: 1px;\n",
       "}\n",
       "\n",
       "#sk-container-id-1 div.sk-dashed-wrapped {\n",
       "  border: 1px dashed var(--sklearn-color-line);\n",
       "  margin: 0 0.4em 0.5em 0.4em;\n",
       "  box-sizing: border-box;\n",
       "  padding-bottom: 0.4em;\n",
       "  background-color: var(--sklearn-color-background);\n",
       "}\n",
       "\n",
       "#sk-container-id-1 div.sk-container {\n",
       "  /* jupyter's `normalize.less` sets `[hidden] { display: none; }`\n",
       "     but bootstrap.min.css set `[hidden] { display: none !important; }`\n",
       "     so we also need the `!important` here to be able to override the\n",
       "     default hidden behavior on the sphinx rendered scikit-learn.org.\n",
       "     See: https://github.com/scikit-learn/scikit-learn/issues/21755 */\n",
       "  display: inline-block !important;\n",
       "  position: relative;\n",
       "}\n",
       "\n",
       "#sk-container-id-1 div.sk-text-repr-fallback {\n",
       "  display: none;\n",
       "}\n",
       "\n",
       "div.sk-parallel-item,\n",
       "div.sk-serial,\n",
       "div.sk-item {\n",
       "  /* draw centered vertical line to link estimators */\n",
       "  background-image: linear-gradient(var(--sklearn-color-text-on-default-background), var(--sklearn-color-text-on-default-background));\n",
       "  background-size: 2px 100%;\n",
       "  background-repeat: no-repeat;\n",
       "  background-position: center center;\n",
       "}\n",
       "\n",
       "/* Parallel-specific style estimator block */\n",
       "\n",
       "#sk-container-id-1 div.sk-parallel-item::after {\n",
       "  content: \"\";\n",
       "  width: 100%;\n",
       "  border-bottom: 2px solid var(--sklearn-color-text-on-default-background);\n",
       "  flex-grow: 1;\n",
       "}\n",
       "\n",
       "#sk-container-id-1 div.sk-parallel {\n",
       "  display: flex;\n",
       "  align-items: stretch;\n",
       "  justify-content: center;\n",
       "  background-color: var(--sklearn-color-background);\n",
       "  position: relative;\n",
       "}\n",
       "\n",
       "#sk-container-id-1 div.sk-parallel-item {\n",
       "  display: flex;\n",
       "  flex-direction: column;\n",
       "}\n",
       "\n",
       "#sk-container-id-1 div.sk-parallel-item:first-child::after {\n",
       "  align-self: flex-end;\n",
       "  width: 50%;\n",
       "}\n",
       "\n",
       "#sk-container-id-1 div.sk-parallel-item:last-child::after {\n",
       "  align-self: flex-start;\n",
       "  width: 50%;\n",
       "}\n",
       "\n",
       "#sk-container-id-1 div.sk-parallel-item:only-child::after {\n",
       "  width: 0;\n",
       "}\n",
       "\n",
       "/* Serial-specific style estimator block */\n",
       "\n",
       "#sk-container-id-1 div.sk-serial {\n",
       "  display: flex;\n",
       "  flex-direction: column;\n",
       "  align-items: center;\n",
       "  background-color: var(--sklearn-color-background);\n",
       "  padding-right: 1em;\n",
       "  padding-left: 1em;\n",
       "}\n",
       "\n",
       "\n",
       "/* Toggleable style: style used for estimator/Pipeline/ColumnTransformer box that is\n",
       "clickable and can be expanded/collapsed.\n",
       "- Pipeline and ColumnTransformer use this feature and define the default style\n",
       "- Estimators will overwrite some part of the style using the `sk-estimator` class\n",
       "*/\n",
       "\n",
       "/* Pipeline and ColumnTransformer style (default) */\n",
       "\n",
       "#sk-container-id-1 div.sk-toggleable {\n",
       "  /* Default theme specific background. It is overwritten whether we have a\n",
       "  specific estimator or a Pipeline/ColumnTransformer */\n",
       "  background-color: var(--sklearn-color-background);\n",
       "}\n",
       "\n",
       "/* Toggleable label */\n",
       "#sk-container-id-1 label.sk-toggleable__label {\n",
       "  cursor: pointer;\n",
       "  display: flex;\n",
       "  width: 100%;\n",
       "  margin-bottom: 0;\n",
       "  padding: 0.5em;\n",
       "  box-sizing: border-box;\n",
       "  text-align: center;\n",
       "  align-items: start;\n",
       "  justify-content: space-between;\n",
       "  gap: 0.5em;\n",
       "}\n",
       "\n",
       "#sk-container-id-1 label.sk-toggleable__label .caption {\n",
       "  font-size: 0.6rem;\n",
       "  font-weight: lighter;\n",
       "  color: var(--sklearn-color-text-muted);\n",
       "}\n",
       "\n",
       "#sk-container-id-1 label.sk-toggleable__label-arrow:before {\n",
       "  /* Arrow on the left of the label */\n",
       "  content: \"▸\";\n",
       "  float: left;\n",
       "  margin-right: 0.25em;\n",
       "  color: var(--sklearn-color-icon);\n",
       "}\n",
       "\n",
       "#sk-container-id-1 label.sk-toggleable__label-arrow:hover:before {\n",
       "  color: var(--sklearn-color-text);\n",
       "}\n",
       "\n",
       "/* Toggleable content - dropdown */\n",
       "\n",
       "#sk-container-id-1 div.sk-toggleable__content {\n",
       "  max-height: 0;\n",
       "  max-width: 0;\n",
       "  overflow: hidden;\n",
       "  text-align: left;\n",
       "  /* unfitted */\n",
       "  background-color: var(--sklearn-color-unfitted-level-0);\n",
       "}\n",
       "\n",
       "#sk-container-id-1 div.sk-toggleable__content.fitted {\n",
       "  /* fitted */\n",
       "  background-color: var(--sklearn-color-fitted-level-0);\n",
       "}\n",
       "\n",
       "#sk-container-id-1 div.sk-toggleable__content pre {\n",
       "  margin: 0.2em;\n",
       "  border-radius: 0.25em;\n",
       "  color: var(--sklearn-color-text);\n",
       "  /* unfitted */\n",
       "  background-color: var(--sklearn-color-unfitted-level-0);\n",
       "}\n",
       "\n",
       "#sk-container-id-1 div.sk-toggleable__content.fitted pre {\n",
       "  /* unfitted */\n",
       "  background-color: var(--sklearn-color-fitted-level-0);\n",
       "}\n",
       "\n",
       "#sk-container-id-1 input.sk-toggleable__control:checked~div.sk-toggleable__content {\n",
       "  /* Expand drop-down */\n",
       "  max-height: 200px;\n",
       "  max-width: 100%;\n",
       "  overflow: auto;\n",
       "}\n",
       "\n",
       "#sk-container-id-1 input.sk-toggleable__control:checked~label.sk-toggleable__label-arrow:before {\n",
       "  content: \"▾\";\n",
       "}\n",
       "\n",
       "/* Pipeline/ColumnTransformer-specific style */\n",
       "\n",
       "#sk-container-id-1 div.sk-label input.sk-toggleable__control:checked~label.sk-toggleable__label {\n",
       "  color: var(--sklearn-color-text);\n",
       "  background-color: var(--sklearn-color-unfitted-level-2);\n",
       "}\n",
       "\n",
       "#sk-container-id-1 div.sk-label.fitted input.sk-toggleable__control:checked~label.sk-toggleable__label {\n",
       "  background-color: var(--sklearn-color-fitted-level-2);\n",
       "}\n",
       "\n",
       "/* Estimator-specific style */\n",
       "\n",
       "/* Colorize estimator box */\n",
       "#sk-container-id-1 div.sk-estimator input.sk-toggleable__control:checked~label.sk-toggleable__label {\n",
       "  /* unfitted */\n",
       "  background-color: var(--sklearn-color-unfitted-level-2);\n",
       "}\n",
       "\n",
       "#sk-container-id-1 div.sk-estimator.fitted input.sk-toggleable__control:checked~label.sk-toggleable__label {\n",
       "  /* fitted */\n",
       "  background-color: var(--sklearn-color-fitted-level-2);\n",
       "}\n",
       "\n",
       "#sk-container-id-1 div.sk-label label.sk-toggleable__label,\n",
       "#sk-container-id-1 div.sk-label label {\n",
       "  /* The background is the default theme color */\n",
       "  color: var(--sklearn-color-text-on-default-background);\n",
       "}\n",
       "\n",
       "/* On hover, darken the color of the background */\n",
       "#sk-container-id-1 div.sk-label:hover label.sk-toggleable__label {\n",
       "  color: var(--sklearn-color-text);\n",
       "  background-color: var(--sklearn-color-unfitted-level-2);\n",
       "}\n",
       "\n",
       "/* Label box, darken color on hover, fitted */\n",
       "#sk-container-id-1 div.sk-label.fitted:hover label.sk-toggleable__label.fitted {\n",
       "  color: var(--sklearn-color-text);\n",
       "  background-color: var(--sklearn-color-fitted-level-2);\n",
       "}\n",
       "\n",
       "/* Estimator label */\n",
       "\n",
       "#sk-container-id-1 div.sk-label label {\n",
       "  font-family: monospace;\n",
       "  font-weight: bold;\n",
       "  display: inline-block;\n",
       "  line-height: 1.2em;\n",
       "}\n",
       "\n",
       "#sk-container-id-1 div.sk-label-container {\n",
       "  text-align: center;\n",
       "}\n",
       "\n",
       "/* Estimator-specific */\n",
       "#sk-container-id-1 div.sk-estimator {\n",
       "  font-family: monospace;\n",
       "  border: 1px dotted var(--sklearn-color-border-box);\n",
       "  border-radius: 0.25em;\n",
       "  box-sizing: border-box;\n",
       "  margin-bottom: 0.5em;\n",
       "  /* unfitted */\n",
       "  background-color: var(--sklearn-color-unfitted-level-0);\n",
       "}\n",
       "\n",
       "#sk-container-id-1 div.sk-estimator.fitted {\n",
       "  /* fitted */\n",
       "  background-color: var(--sklearn-color-fitted-level-0);\n",
       "}\n",
       "\n",
       "/* on hover */\n",
       "#sk-container-id-1 div.sk-estimator:hover {\n",
       "  /* unfitted */\n",
       "  background-color: var(--sklearn-color-unfitted-level-2);\n",
       "}\n",
       "\n",
       "#sk-container-id-1 div.sk-estimator.fitted:hover {\n",
       "  /* fitted */\n",
       "  background-color: var(--sklearn-color-fitted-level-2);\n",
       "}\n",
       "\n",
       "/* Specification for estimator info (e.g. \"i\" and \"?\") */\n",
       "\n",
       "/* Common style for \"i\" and \"?\" */\n",
       "\n",
       ".sk-estimator-doc-link,\n",
       "a:link.sk-estimator-doc-link,\n",
       "a:visited.sk-estimator-doc-link {\n",
       "  float: right;\n",
       "  font-size: smaller;\n",
       "  line-height: 1em;\n",
       "  font-family: monospace;\n",
       "  background-color: var(--sklearn-color-background);\n",
       "  border-radius: 1em;\n",
       "  height: 1em;\n",
       "  width: 1em;\n",
       "  text-decoration: none !important;\n",
       "  margin-left: 0.5em;\n",
       "  text-align: center;\n",
       "  /* unfitted */\n",
       "  border: var(--sklearn-color-unfitted-level-1) 1pt solid;\n",
       "  color: var(--sklearn-color-unfitted-level-1);\n",
       "}\n",
       "\n",
       ".sk-estimator-doc-link.fitted,\n",
       "a:link.sk-estimator-doc-link.fitted,\n",
       "a:visited.sk-estimator-doc-link.fitted {\n",
       "  /* fitted */\n",
       "  border: var(--sklearn-color-fitted-level-1) 1pt solid;\n",
       "  color: var(--sklearn-color-fitted-level-1);\n",
       "}\n",
       "\n",
       "/* On hover */\n",
       "div.sk-estimator:hover .sk-estimator-doc-link:hover,\n",
       ".sk-estimator-doc-link:hover,\n",
       "div.sk-label-container:hover .sk-estimator-doc-link:hover,\n",
       ".sk-estimator-doc-link:hover {\n",
       "  /* unfitted */\n",
       "  background-color: var(--sklearn-color-unfitted-level-3);\n",
       "  color: var(--sklearn-color-background);\n",
       "  text-decoration: none;\n",
       "}\n",
       "\n",
       "div.sk-estimator.fitted:hover .sk-estimator-doc-link.fitted:hover,\n",
       ".sk-estimator-doc-link.fitted:hover,\n",
       "div.sk-label-container:hover .sk-estimator-doc-link.fitted:hover,\n",
       ".sk-estimator-doc-link.fitted:hover {\n",
       "  /* fitted */\n",
       "  background-color: var(--sklearn-color-fitted-level-3);\n",
       "  color: var(--sklearn-color-background);\n",
       "  text-decoration: none;\n",
       "}\n",
       "\n",
       "/* Span, style for the box shown on hovering the info icon */\n",
       ".sk-estimator-doc-link span {\n",
       "  display: none;\n",
       "  z-index: 9999;\n",
       "  position: relative;\n",
       "  font-weight: normal;\n",
       "  right: .2ex;\n",
       "  padding: .5ex;\n",
       "  margin: .5ex;\n",
       "  width: min-content;\n",
       "  min-width: 20ex;\n",
       "  max-width: 50ex;\n",
       "  color: var(--sklearn-color-text);\n",
       "  box-shadow: 2pt 2pt 4pt #999;\n",
       "  /* unfitted */\n",
       "  background: var(--sklearn-color-unfitted-level-0);\n",
       "  border: .5pt solid var(--sklearn-color-unfitted-level-3);\n",
       "}\n",
       "\n",
       ".sk-estimator-doc-link.fitted span {\n",
       "  /* fitted */\n",
       "  background: var(--sklearn-color-fitted-level-0);\n",
       "  border: var(--sklearn-color-fitted-level-3);\n",
       "}\n",
       "\n",
       ".sk-estimator-doc-link:hover span {\n",
       "  display: block;\n",
       "}\n",
       "\n",
       "/* \"?\"-specific style due to the `<a>` HTML tag */\n",
       "\n",
       "#sk-container-id-1 a.estimator_doc_link {\n",
       "  float: right;\n",
       "  font-size: 1rem;\n",
       "  line-height: 1em;\n",
       "  font-family: monospace;\n",
       "  background-color: var(--sklearn-color-background);\n",
       "  border-radius: 1rem;\n",
       "  height: 1rem;\n",
       "  width: 1rem;\n",
       "  text-decoration: none;\n",
       "  /* unfitted */\n",
       "  color: var(--sklearn-color-unfitted-level-1);\n",
       "  border: var(--sklearn-color-unfitted-level-1) 1pt solid;\n",
       "}\n",
       "\n",
       "#sk-container-id-1 a.estimator_doc_link.fitted {\n",
       "  /* fitted */\n",
       "  border: var(--sklearn-color-fitted-level-1) 1pt solid;\n",
       "  color: var(--sklearn-color-fitted-level-1);\n",
       "}\n",
       "\n",
       "/* On hover */\n",
       "#sk-container-id-1 a.estimator_doc_link:hover {\n",
       "  /* unfitted */\n",
       "  background-color: var(--sklearn-color-unfitted-level-3);\n",
       "  color: var(--sklearn-color-background);\n",
       "  text-decoration: none;\n",
       "}\n",
       "\n",
       "#sk-container-id-1 a.estimator_doc_link.fitted:hover {\n",
       "  /* fitted */\n",
       "  background-color: var(--sklearn-color-fitted-level-3);\n",
       "}\n",
       "</style><div id=\"sk-container-id-1\" class=\"sk-top-container\"><div class=\"sk-text-repr-fallback\"><pre>OneVsRestClassifier(estimator=MultinomialNB())</pre><b>In a Jupyter environment, please rerun this cell to show the HTML representation or trust the notebook. <br />On GitHub, the HTML representation is unable to render, please try loading this page with nbviewer.org.</b></div><div class=\"sk-container\" hidden><div class=\"sk-item sk-dashed-wrapped\"><div class=\"sk-label-container\"><div class=\"sk-label fitted sk-toggleable\"><input class=\"sk-toggleable__control sk-hidden--visually\" id=\"sk-estimator-id-1\" type=\"checkbox\" ><label for=\"sk-estimator-id-1\" class=\"sk-toggleable__label fitted sk-toggleable__label-arrow\"><div><div>OneVsRestClassifier</div></div><div><a class=\"sk-estimator-doc-link fitted\" rel=\"noreferrer\" target=\"_blank\" href=\"https://scikit-learn.org/1.6/modules/generated/sklearn.multiclass.OneVsRestClassifier.html\">?<span>Documentation for OneVsRestClassifier</span></a><span class=\"sk-estimator-doc-link fitted\">i<span>Fitted</span></span></div></label><div class=\"sk-toggleable__content fitted\"><pre>OneVsRestClassifier(estimator=MultinomialNB())</pre></div> </div></div><div class=\"sk-parallel\"><div class=\"sk-parallel-item\"><div class=\"sk-item\"><div class=\"sk-label-container\"><div class=\"sk-label fitted sk-toggleable\"><input class=\"sk-toggleable__control sk-hidden--visually\" id=\"sk-estimator-id-2\" type=\"checkbox\" ><label for=\"sk-estimator-id-2\" class=\"sk-toggleable__label fitted sk-toggleable__label-arrow\"><div><div>estimator: MultinomialNB</div></div></label><div class=\"sk-toggleable__content fitted\"><pre>MultinomialNB()</pre></div> </div></div><div class=\"sk-serial\"><div class=\"sk-item\"><div class=\"sk-estimator fitted sk-toggleable\"><input class=\"sk-toggleable__control sk-hidden--visually\" id=\"sk-estimator-id-3\" type=\"checkbox\" ><label for=\"sk-estimator-id-3\" class=\"sk-toggleable__label fitted sk-toggleable__label-arrow\"><div><div>MultinomialNB</div></div><div><a class=\"sk-estimator-doc-link fitted\" rel=\"noreferrer\" target=\"_blank\" href=\"https://scikit-learn.org/1.6/modules/generated/sklearn.naive_bayes.MultinomialNB.html\">?<span>Documentation for MultinomialNB</span></a></div></label><div class=\"sk-toggleable__content fitted\"><pre>MultinomialNB()</pre></div> </div></div></div></div></div></div></div></div></div>"
      ],
      "text/plain": [
       "OneVsRestClassifier(estimator=MultinomialNB())"
      ]
     },
     "execution_count": 151,
     "metadata": {},
     "output_type": "execute_result"
    }
   ],
   "source": [
    "model.fit(x_train, y_train)"
   ]
  },
  {
   "cell_type": "code",
   "execution_count": 152,
   "id": "23255ed1",
   "metadata": {},
   "outputs": [],
   "source": [
    "y_predict = model.predict(x_test)"
   ]
  },
  {
   "cell_type": "code",
   "execution_count": 154,
   "id": "34409ed7",
   "metadata": {},
   "outputs": [
    {
     "name": "stdout",
     "output_type": "stream",
     "text": [
      "Model evalution: \n",
      "Model accuracy (per label):\n"
     ]
    }
   ],
   "source": [
    "print(\"Model evalution: \")\n",
    "print(\"Model accuracy (per label):\")"
   ]
  },
  {
   "cell_type": "code",
   "execution_count": 155,
   "id": "eec1ce90",
   "metadata": {},
   "outputs": [
    {
     "name": "stdout",
     "output_type": "stream",
     "text": [
      "[0.84519038 0.85721443 0.92284569 0.78707415 0.86272545 0.72795591\n",
      " 0.90681363 0.88927856 0.95440882 0.89228457 0.97294589 0.89529058\n",
      " 0.84418838 0.91482966 0.98496994 0.77755511 0.97344689 0.98246493]\n"
     ]
    }
   ],
   "source": [
    "print((y_predict == y_test).mean(axis=0))"
   ]
  },
  {
   "cell_type": "code",
   "execution_count": 157,
   "id": "0989a164",
   "metadata": {},
   "outputs": [
    {
     "name": "stdout",
     "output_type": "stream",
     "text": [
      "\n",
      "Classification report: \n",
      "                 precision    recall  f1-score   support\n",
      "\n",
      "         Action       0.69      0.65      0.67       476\n",
      "      Adventure       0.58      0.46      0.51       326\n",
      "      Animation       0.74      0.30      0.43       191\n",
      "         Comedy       0.72      0.68      0.70       721\n",
      "          Crime       0.63      0.42      0.50       333\n",
      "          Drama       0.71      0.67      0.69       905\n",
      "         Family       0.69      0.36      0.47       233\n",
      "        Fantasy       0.53      0.24      0.33       228\n",
      "        History       0.33      0.06      0.10        86\n",
      "         Horror       0.77      0.39      0.52       297\n",
      "          Music       0.67      0.04      0.07        55\n",
      "        Mystery       0.42      0.11      0.17       200\n",
      "        Romance       0.61      0.38      0.47       360\n",
      "Science Fiction       0.73      0.50      0.59       248\n",
      "       TV Movie       0.00      0.00      0.00        29\n",
      "       Thriller       0.61      0.57      0.59       563\n",
      "            War       0.50      0.08      0.13        53\n",
      "        Western       0.00      0.00      0.00        33\n",
      "\n",
      "      micro avg       0.67      0.49      0.57      5337\n",
      "      macro avg       0.55      0.33      0.39      5337\n",
      "   weighted avg       0.65      0.49      0.54      5337\n",
      "    samples avg       0.66      0.53      0.54      5337\n",
      "\n"
     ]
    },
    {
     "name": "stderr",
     "output_type": "stream",
     "text": [
      "d:\\Python\\myenv\\lib\\site-packages\\sklearn\\metrics\\_classification.py:1565: UndefinedMetricWarning: Precision is ill-defined and being set to 0.0 in samples with no predicted labels. Use `zero_division` parameter to control this behavior.\n",
      "  _warn_prf(average, modifier, f\"{metric.capitalize()} is\", len(result))\n"
     ]
    }
   ],
   "source": [
    "print(\"\\nClassification report: \")\n",
    "print(classification_report(y_test, y_predict, target_names=mlb.classes_))"
   ]
  },
  {
   "cell_type": "code",
   "execution_count": 158,
   "id": "f1864c5b",
   "metadata": {},
   "outputs": [],
   "source": [
    "from sklearn.metrics import accuracy_score"
   ]
  },
  {
   "cell_type": "code",
   "execution_count": 161,
   "id": "9353d0be",
   "metadata": {},
   "outputs": [
    {
     "name": "stdout",
     "output_type": "stream",
     "text": [
      "0.14428857715430862\n"
     ]
    }
   ],
   "source": [
    "print(accuracy_score(y_predict, y_test))"
   ]
  },
  {
   "cell_type": "code",
   "execution_count": null,
   "id": "3bd4e2c3",
   "metadata": {},
   "outputs": [],
   "source": []
  }
 ],
 "metadata": {
  "kernelspec": {
   "display_name": "myenv",
   "language": "python",
   "name": "python3"
  },
  "language_info": {
   "codemirror_mode": {
    "name": "ipython",
    "version": 3
   },
   "file_extension": ".py",
   "mimetype": "text/x-python",
   "name": "python",
   "nbconvert_exporter": "python",
   "pygments_lexer": "ipython3",
   "version": "3.10.5"
  }
 },
 "nbformat": 4,
 "nbformat_minor": 5
}
