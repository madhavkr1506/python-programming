{
 "cells": [
  {
   "cell_type": "code",
   "execution_count": 50,
   "id": "2b6d388b",
   "metadata": {},
   "outputs": [],
   "source": [
    "import os\n",
    "import pandas as pd\n",
    "import ast"
   ]
  },
  {
   "cell_type": "code",
   "execution_count": 7,
   "id": "8f66ec5a",
   "metadata": {},
   "outputs": [
    {
     "name": "stdout",
     "output_type": "stream",
     "text": [
      "d:\\Python\n",
      "d:\\Python\\movies\\movies_genres.csv\n",
      "d:\\Python\\movies\\movies_overview.csv\n"
     ]
    }
   ],
   "source": [
    "current_dir = os.getcwd()\n",
    "print(current_dir)\n",
    "\n",
    "filepath_movies_genres = os.path.join(current_dir, \"movies\", \"movies_genres.csv\")\n",
    "filepath_movies_overview = os.path.join(current_dir, \"movies\", \"movies_overview.csv\")\n",
    "\n",
    "print(filepath_movies_genres)\n",
    "print(filepath_movies_overview)"
   ]
  },
  {
   "cell_type": "code",
   "execution_count": 9,
   "id": "831b0423",
   "metadata": {},
   "outputs": [
    {
     "name": "stdout",
     "output_type": "stream",
     "text": [
      "Index(['id', 'name'], dtype='object')\n"
     ]
    }
   ],
   "source": [
    "read_genres = pd.read_csv(filepath_movies_genres)\n",
    "print(read_genres.columns)"
   ]
  },
  {
   "cell_type": "code",
   "execution_count": 10,
   "id": "93c5571b",
   "metadata": {},
   "outputs": [
    {
     "name": "stdout",
     "output_type": "stream",
     "text": [
      "                 id\n",
      "count     19.000000\n",
      "mean    3389.736842\n",
      "std     4980.456972\n",
      "min       12.000000\n",
      "25%       27.500000\n",
      "50%       53.000000\n",
      "75%    10025.000000\n",
      "max    10770.000000\n"
     ]
    }
   ],
   "source": [
    "print(read_genres.describe())"
   ]
  },
  {
   "cell_type": "code",
   "execution_count": 22,
   "id": "857dc026",
   "metadata": {},
   "outputs": [
    {
     "name": "stdout",
     "output_type": "stream",
     "text": [
      "   id       name\n",
      "0  28     Action\n",
      "1  12  Adventure\n",
      "2  16  Animation\n",
      "3  35     Comedy\n"
     ]
    }
   ],
   "source": [
    "print(read_genres.head(4))"
   ]
  },
  {
   "cell_type": "code",
   "execution_count": 13,
   "id": "866448f1",
   "metadata": {},
   "outputs": [
    {
     "name": "stdout",
     "output_type": "stream",
     "text": [
      "0\n",
      "0\n"
     ]
    }
   ],
   "source": [
    "print(read_genres['id'].isna().sum())\n",
    "print(read_genres['name'].isna().sum())"
   ]
  },
  {
   "cell_type": "code",
   "execution_count": 14,
   "id": "53baaacc",
   "metadata": {},
   "outputs": [
    {
     "name": "stdout",
     "output_type": "stream",
     "text": [
      "<class 'pandas.core.frame.DataFrame'>\n"
     ]
    }
   ],
   "source": [
    "print(type(read_genres))"
   ]
  },
  {
   "cell_type": "code",
   "execution_count": 16,
   "id": "471fbc90",
   "metadata": {},
   "outputs": [
    {
     "name": "stdout",
     "output_type": "stream",
     "text": [
      "Index(['title', 'overview', 'genre_ids'], dtype='object')\n"
     ]
    }
   ],
   "source": [
    "read_overview = pd.read_csv(filepath_movies_overview)\n",
    "print(read_overview.columns)"
   ]
  },
  {
   "cell_type": "code",
   "execution_count": 17,
   "id": "ace4be7a",
   "metadata": {},
   "outputs": [
    {
     "name": "stdout",
     "output_type": "stream",
     "text": [
      "<class 'pandas.core.frame.DataFrame'>\n"
     ]
    }
   ],
   "source": [
    "print(type(read_overview))"
   ]
  },
  {
   "cell_type": "code",
   "execution_count": 18,
   "id": "8f994a92",
   "metadata": {},
   "outputs": [
    {
     "name": "stdout",
     "output_type": "stream",
     "text": [
      "                      title  \\\n",
      "0  The Shawshank Redemption   \n",
      "1             The Godfather   \n",
      "2     The Godfather Part II   \n",
      "3          Schindler's List   \n",
      "\n",
      "                                            overview        genre_ids  \n",
      "0  Imprisoned in the 1940s for the double murder ...         [18, 80]  \n",
      "1  Spanning the years 1945 to 1955, a chronicle o...         [18, 80]  \n",
      "2  In the continuing saga of the Corleone crime f...         [18, 80]  \n",
      "3  The true story of how businessman Oskar Schind...  [18, 36, 10752]  \n"
     ]
    }
   ],
   "source": [
    "print(read_overview.head(4))"
   ]
  },
  {
   "cell_type": "code",
   "execution_count": 20,
   "id": "5a31cb2f",
   "metadata": {},
   "outputs": [
    {
     "name": "stdout",
     "output_type": "stream",
     "text": [
      "0\n",
      "0\n",
      "0\n"
     ]
    }
   ],
   "source": [
    "print(read_overview['genre_ids'].isna().sum())\n",
    "print(read_overview['overview'].isna().sum())\n",
    "print(read_overview['title'].isna().sum())"
   ]
  },
  {
   "cell_type": "code",
   "execution_count": 29,
   "id": "120d05c8",
   "metadata": {},
   "outputs": [
    {
     "name": "stdout",
     "output_type": "stream",
     "text": [
      "                      title  \\\n",
      "0  The Shawshank Redemption   \n",
      "1             The Godfather   \n",
      "2     The Godfather Part II   \n",
      "3          Schindler's List   \n",
      "\n",
      "                                            overview        genre_ids  \n",
      "0  Imprisoned in the 1940s for the double murder ...         [18, 80]  \n",
      "1  Spanning the years 1945 to 1955, a chronicle o...         [18, 80]  \n",
      "2  In the continuing saga of the Corleone crime f...         [18, 80]  \n",
      "3  The true story of how businessman Oskar Schind...  [18, 36, 10752]  \n",
      "   id       name\n",
      "0  28     Action\n",
      "1  12  Adventure\n",
      "2  16  Animation\n",
      "3  35     Comedy\n"
     ]
    }
   ],
   "source": [
    "print(read_overview.head(4))\n",
    "print(read_genres.head(4))"
   ]
  },
  {
   "cell_type": "code",
   "execution_count": 34,
   "id": "0f6de228",
   "metadata": {},
   "outputs": [
    {
     "name": "stdout",
     "output_type": "stream",
     "text": [
      "<class 'pandas.core.frame.DataFrame'>\n",
      "38\n"
     ]
    }
   ],
   "source": [
    "print(type(read_genres))\n",
    "print(read_genres.size)"
   ]
  },
  {
   "cell_type": "code",
   "execution_count": 35,
   "id": "d8ce79eb",
   "metadata": {},
   "outputs": [
    {
     "name": "stdout",
     "output_type": "stream",
     "text": [
      "<class 'pandas.core.frame.DataFrame'>\n",
      "29940\n"
     ]
    }
   ],
   "source": [
    "print(type(read_overview))\n",
    "print(read_overview.size)"
   ]
  },
  {
   "cell_type": "code",
   "execution_count": 49,
   "id": "da17d252",
   "metadata": {},
   "outputs": [
    {
     "name": "stdout",
     "output_type": "stream",
     "text": [
      "                                           title  \\\n",
      "0                       The Shawshank Redemption   \n",
      "1                                  The Godfather   \n",
      "2                          The Godfather Part II   \n",
      "16                                    GoodFellas   \n",
      "23                                   City of God   \n",
      "28                   Once Upon a Time in America   \n",
      "241                     The Young and the Damned   \n",
      "319                          Catch Me If You Can   \n",
      "334                                Trainspotting   \n",
      "481                           Dancer in the Dark   \n",
      "482                                 A Bronx Tale   \n",
      "623                                      Polisse   \n",
      "1002                                     Brother   \n",
      "1046                           American Gangster   \n",
      "1076                              Scarlet Street   \n",
      "1233                                  Breathless   \n",
      "1317                                  The Insult   \n",
      "1360                Once Upon a Time in Anatolia   \n",
      "1366                            Midnight Express   \n",
      "1390                             A Perfect World   \n",
      "1400                             This Is England   \n",
      "1424                         Birdman of Alcatraz   \n",
      "1549                            The Unforgivable   \n",
      "1557                                 Miss Sloane   \n",
      "1636                                    El Angel   \n",
      "1666                                   Leviathan   \n",
      "1677                      The Basketball Diaries   \n",
      "1759                               Bad Education   \n",
      "1860                                      Cherry   \n",
      "2709                                Molly's Game   \n",
      "2866                            Drugstore Cowboy   \n",
      "3017                                Mean Streets   \n",
      "3141                                 7 Prisoners   \n",
      "3316  Extremely Wicked, Shockingly Evil and Vile   \n",
      "3336                                    Rounders   \n",
      "3480                  The Place Beyond the Pines   \n",
      "3686                                 Street Flow   \n",
      "3795                                 Kids Return   \n",
      "3805                                The Woodsman   \n",
      "3822                                 In the Fade   \n",
      "3825                                         SK1   \n",
      "3892                                    Gomorrah   \n",
      "3897                                        Kids   \n",
      "3931                                  Hard Eight   \n",
      "4033                             American Hustle   \n",
      "4086                                    Piranhas   \n",
      "4178                          Siberian Education   \n",
      "4331                                    The Drop   \n",
      "4487                                 In Her Name   \n",
      "4827                                          21   \n",
      "5015                                Frozen River   \n",
      "5057                           Hot Summer Nights   \n",
      "5986     Things to Do in Denver When You're Dead   \n",
      "7245  Bad Lieutenant: Port of Call - New Orleans   \n",
      "7696             Wall Street: Money Never Sleeps   \n",
      "8466                            London Boulevard   \n",
      "9417                              The Bling Ring   \n",
      "9647                             Spring Breakers   \n",
      "\n",
      "                                               overview genre_ids  \n",
      "0     Imprisoned in the 1940s for the double murder ...  [18, 80]  \n",
      "1     Spanning the years 1945 to 1955, a chronicle o...  [18, 80]  \n",
      "2     In the continuing saga of the Corleone crime f...  [18, 80]  \n",
      "16    The true story of Henry Hill, a half-Irish, ha...  [18, 80]  \n",
      "23    In the poverty-stricken favelas of Rio de Jane...  [18, 80]  \n",
      "28    A former Prohibition-era Jewish gangster retur...  [18, 80]  \n",
      "241   A group of juvenile delinquents live a violent...  [18, 80]  \n",
      "319   A true story about Frank Abagnale Jr. who, bef...  [18, 80]  \n",
      "334   Heroin addict Mark Renton stumbles through bad...  [18, 80]  \n",
      "481   Selma, a Czech immigrant on the verge of blind...  [18, 80]  \n",
      "482   Set in the Bronx during the tumultuous 1960s, ...  [18, 80]  \n",
      "623   Paris, France. Fred and his colleagues, member...  [18, 80]  \n",
      "1002  Danila goes to his successful brother, Victor,...  [18, 80]  \n",
      "1046  Following the death of his employer and mentor...  [18, 80]  \n",
      "1076  Cashier and part-time starving artist Christop...  [18, 80]  \n",
      "1233  A small-time thief steals a car and impulsivel...  [18, 80]  \n",
      "1317  After an emotional exchange between a Lebanese...  [18, 80]  \n",
      "1360  A group of men lead a search for a victim of a...  [18, 80]  \n",
      "1366  Billy Hayes is caught attempting to smuggle dr...  [18, 80]  \n",
      "1390  A kidnapped boy strikes up a friendship with h...  [18, 80]  \n",
      "1400  A story about a troubled boy growing up in Eng...  [18, 80]  \n",
      "1424  After killing a prison guard, convict Robert S...  [18, 80]  \n",
      "1549  A woman is released from prison after serving ...  [18, 80]  \n",
      "1557  An ambitious lobbyist faces off against the po...  [18, 80]  \n",
      "1636  Buenos Aires, Argentina, 1971. Carlos Robledo ...  [18, 80]  \n",
      "1666  In a Russian coastal town, Kolya is forced to ...  [18, 80]  \n",
      "1677  A high school basketball player’s life turns u...  [18, 80]  \n",
      "1759  An examination on the effect of Franco-era rel...  [18, 80]  \n",
      "1860  Cherry drifts from college dropout to army med...  [18, 80]  \n",
      "2709  Molly Bloom, a young skier and former Olympic ...  [18, 80]  \n",
      "2866  Portland, Oregon, 1971. Bob Hughes is the char...  [18, 80]  \n",
      "3017  A small-time hood must choose from among love,...  [18, 80]  \n",
      "3141  An impoverished teen seeking to escape the clu...  [18, 80]  \n",
      "3316  A chronicle of the crimes of Ted Bundy, from t...  [18, 80]  \n",
      "3336  A young reformed gambler must return to playin...  [18, 80]  \n",
      "3480  A motorcycle stunt rider considers committing ...  [18, 80]  \n",
      "3686  Noumouké, from the suburb of Paris, is about t...  [18, 80]  \n",
      "3795  Shinji and Masaru spend most of their school d...  [18, 80]  \n",
      "3805  After twelve years in prison, Walter returns h...  [18, 80]  \n",
      "3822  Katja's life collapses after the deaths of her...  [18, 80]  \n",
      "3825  The hunt, capture and trial of Guy Georges, on...  [18, 80]  \n",
      "3892  An inside look at Italy's modern-day crime fam...  [18, 80]  \n",
      "3897  A day in the life of a group of teens as they ...  [18, 80]  \n",
      "3931  A stranger mentors a young Reno gambler who we...  [18, 80]  \n",
      "4033  A conman and his seductive partner are forced ...  [18, 80]  \n",
      "4086  A gang of teenage boys stalk the streets of Na...  [18, 80]  \n",
      "4178  The story of a gang of children growing up in ...  [18, 80]  \n",
      "4331  Bob Saginowski finds himself at the center of ...  [18, 80]  \n",
      "4487  In 1982, André Bamberski learns about the deat...  [18, 80]  \n",
      "4827  Ben Campbell is a young, highly intelligent st...  [18, 80]  \n",
      "5015  After her husband deserts her, working-class m...  [18, 80]  \n",
      "5057  In 1991, a sheltered teenager comes of age dur...  [18, 80]  \n",
      "5986  Five different criminals face imminent death a...  [18, 80]  \n",
      "7245  Terrence McDonagh is a New Orleans Police serg...  [18, 80]  \n",
      "7696  As the global economy teeters on the brink of ...  [18, 80]  \n",
      "8466  A parolee falls for a reclusive movie star whi...  [18, 80]  \n",
      "9417  Inspired by actual events, a group of fame-obs...  [18, 80]  \n",
      "9647  After four college girls rob a restaurant to f...  [18, 80]  \n"
     ]
    }
   ],
   "source": [
    "print(read_overview[read_overview['genre_ids'].apply(lambda row : row == '[18, 80]')])"
   ]
  },
  {
   "cell_type": "code",
   "execution_count": 51,
   "id": "ca56740d",
   "metadata": {},
   "outputs": [],
   "source": [
    "read_overview['genre_ids'] = read_overview['genre_ids'].apply(ast.literal_eval)"
   ]
  },
  {
   "cell_type": "code",
   "execution_count": 54,
   "id": "d57934c2",
   "metadata": {},
   "outputs": [
    {
     "name": "stdout",
     "output_type": "stream",
     "text": [
      "<class 'pandas.core.frame.DataFrame'>\n",
      "RangeIndex: 9980 entries, 0 to 9979\n",
      "Data columns (total 3 columns):\n",
      " #   Column     Non-Null Count  Dtype \n",
      "---  ------     --------------  ----- \n",
      " 0   title      9980 non-null   object\n",
      " 1   overview   9980 non-null   object\n",
      " 2   genre_ids  9980 non-null   object\n",
      "dtypes: object(3)\n",
      "memory usage: 234.0+ KB\n",
      "None\n"
     ]
    }
   ],
   "source": [
    "print(read_overview.info())"
   ]
  },
  {
   "cell_type": "code",
   "execution_count": 55,
   "id": "5d7ddfd5",
   "metadata": {},
   "outputs": [
    {
     "name": "stdout",
     "output_type": "stream",
     "text": [
      "                         title  \\\n",
      "0     The Shawshank Redemption   \n",
      "1                The Godfather   \n",
      "2        The Godfather Part II   \n",
      "3             Schindler's List   \n",
      "4                 12 Angry Men   \n",
      "...                        ...   \n",
      "9944                Melissa P.   \n",
      "9954        Dragon Wars: D-War   \n",
      "9969                    Swiped   \n",
      "9976               The Fanatic   \n",
      "9977                    SPF-18   \n",
      "\n",
      "                                               overview  \\\n",
      "0     Imprisoned in the 1940s for the double murder ...   \n",
      "1     Spanning the years 1945 to 1955, a chronicle o...   \n",
      "2     In the continuing saga of the Corleone crime f...   \n",
      "3     The true story of how businessman Oskar Schind...   \n",
      "4     The defense and the prosecution have rested an...   \n",
      "...                                                 ...   \n",
      "9944  An adolescent girl, living with her mother and...   \n",
      "9954  Based on the Korean legend, unknown creatures ...   \n",
      "9969  James, a college freshman and computer genius,...   \n",
      "9976  A rabid film fan stalks his favorite action he...   \n",
      "9977  18-year-old Penny Cooper spent years pining fo...   \n",
      "\n",
      "                      genre_ids  \n",
      "0                      [18, 80]  \n",
      "1                      [18, 80]  \n",
      "2                      [18, 80]  \n",
      "3               [18, 36, 10752]  \n",
      "4                          [18]  \n",
      "...                         ...  \n",
      "9944                       [18]  \n",
      "9954  [14, 18, 27, 28, 53, 878]  \n",
      "9969            [35, 18, 10749]  \n",
      "9976                   [80, 53]  \n",
      "9977                [10749, 18]  \n",
      "\n",
      "[5290 rows x 3 columns]\n"
     ]
    }
   ],
   "source": [
    "print(read_overview[read_overview['genre_ids'].apply(lambda row : 18 in row or 80 in row)])"
   ]
  },
  {
   "cell_type": "code",
   "execution_count": 59,
   "id": "e918a8b0",
   "metadata": {},
   "outputs": [
    {
     "name": "stdout",
     "output_type": "stream",
     "text": [
      "0           [18, 80]\n",
      "1           [18, 80]\n",
      "2           [18, 80]\n",
      "3    [18, 36, 10752]\n",
      "Name: genre_ids, dtype: object\n"
     ]
    }
   ],
   "source": [
    "print(read_overview['genre_ids'].head(4))"
   ]
  },
  {
   "cell_type": "code",
   "execution_count": 60,
   "id": "97c29ac7",
   "metadata": {},
   "outputs": [
    {
     "name": "stdout",
     "output_type": "stream",
     "text": [
      "<class 'pandas.core.frame.DataFrame'>\n",
      "RangeIndex: 19 entries, 0 to 18\n",
      "Data columns (total 2 columns):\n",
      " #   Column  Non-Null Count  Dtype \n",
      "---  ------  --------------  ----- \n",
      " 0   id      19 non-null     int64 \n",
      " 1   name    19 non-null     object\n",
      "dtypes: int64(1), object(1)\n",
      "memory usage: 432.0+ bytes\n",
      "None\n"
     ]
    }
   ],
   "source": [
    "print(read_genres.info())"
   ]
  },
  {
   "cell_type": "code",
   "execution_count": 61,
   "id": "4402d1c3",
   "metadata": {},
   "outputs": [],
   "source": [
    "read_genres = dict(zip(read_genres['id'], read_genres['name']))"
   ]
  },
  {
   "cell_type": "code",
   "execution_count": 62,
   "id": "06d1390b",
   "metadata": {},
   "outputs": [
    {
     "name": "stdout",
     "output_type": "stream",
     "text": [
      "{28: 'Action', 12: 'Adventure', 16: 'Animation', 35: 'Comedy', 80: 'Crime', 99: 'Documentary', 18: 'Drama', 10751: 'Family', 14: 'Fantasy', 36: 'History', 27: 'Horror', 10402: 'Music', 9648: 'Mystery', 10749: 'Romance', 878: 'Science Fiction', 10770: 'TV Movie', 53: 'Thriller', 10752: 'War', 37: 'Western'}\n"
     ]
    }
   ],
   "source": [
    "print(read_genres)"
   ]
  },
  {
   "cell_type": "code",
   "execution_count": 63,
   "id": "f8854d17",
   "metadata": {},
   "outputs": [
    {
     "name": "stdout",
     "output_type": "stream",
     "text": [
      "<class 'dict'>\n"
     ]
    }
   ],
   "source": [
    "print(type(read_genres))"
   ]
  },
  {
   "cell_type": "code",
   "execution_count": 64,
   "id": "953c1b6e",
   "metadata": {},
   "outputs": [],
   "source": [
    "read_overview['genre_ids'] = read_overview['genre_ids'].apply(lambda row: [read_genres.get(id, 'Unknown') for id in row])"
   ]
  },
  {
   "cell_type": "code",
   "execution_count": 65,
   "id": "a0e43e07",
   "metadata": {},
   "outputs": [
    {
     "name": "stdout",
     "output_type": "stream",
     "text": [
      "                      title  \\\n",
      "0  The Shawshank Redemption   \n",
      "1             The Godfather   \n",
      "2     The Godfather Part II   \n",
      "3          Schindler's List   \n",
      "\n",
      "                                            overview              genre_ids  \n",
      "0  Imprisoned in the 1940s for the double murder ...         [Drama, Crime]  \n",
      "1  Spanning the years 1945 to 1955, a chronicle o...         [Drama, Crime]  \n",
      "2  In the continuing saga of the Corleone crime f...         [Drama, Crime]  \n",
      "3  The true story of how businessman Oskar Schind...  [Drama, History, War]  \n"
     ]
    }
   ],
   "source": [
    "print(read_overview.head(4))"
   ]
  },
  {
   "cell_type": "code",
   "execution_count": null,
   "id": "56c8f247",
   "metadata": {},
   "outputs": [],
   "source": []
  }
 ],
 "metadata": {
  "kernelspec": {
   "display_name": "myenv",
   "language": "python",
   "name": "python3"
  },
  "language_info": {
   "codemirror_mode": {
    "name": "ipython",
    "version": 3
   },
   "file_extension": ".py",
   "mimetype": "text/x-python",
   "name": "python",
   "nbconvert_exporter": "python",
   "pygments_lexer": "ipython3",
   "version": "3.10.5"
  }
 },
 "nbformat": 4,
 "nbformat_minor": 5
}
