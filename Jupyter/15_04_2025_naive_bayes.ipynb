{
 "cells": [
  {
   "cell_type": "code",
   "execution_count": null,
   "id": "297a5f29",
   "metadata": {},
   "outputs": [],
   "source": [
    "%pip install scikit-learn"
   ]
  },
  {
   "cell_type": "code",
   "execution_count": null,
   "id": "2b6d388b",
   "metadata": {},
   "outputs": [],
   "source": [
    "import os\n",
    "import pandas as pd\n",
    "import ast\n",
    "from sklearn.preprocessing import LabelEncoder\n",
    "from sklearn.model_selection import train_test_split\n",
    "from sklearn.naive_bayes import GaussianNB\n",
    "from sklearn.feature_extraction.text import CountVectorizer\n",
    "from sklearn.metrics import classification_report"
   ]
  },
  {
   "cell_type": "code",
   "execution_count": null,
   "id": "8f66ec5a",
   "metadata": {},
   "outputs": [],
   "source": [
    "current_dir = os.getcwd()\n",
    "print(current_dir)\n",
    "\n",
    "filepath_movies_genres = os.path.join(current_dir, \"movies\", \"movies_genres.csv\")\n",
    "filepath_movies_overview = os.path.join(current_dir, \"movies\", \"movies_overview.csv\")\n",
    "\n",
    "print(filepath_movies_genres)\n",
    "print(filepath_movies_overview)"
   ]
  },
  {
   "cell_type": "code",
   "execution_count": null,
   "id": "831b0423",
   "metadata": {},
   "outputs": [],
   "source": [
    "read_genres = pd.read_csv(filepath_movies_genres)\n",
    "print(read_genres.columns)"
   ]
  },
  {
   "cell_type": "code",
   "execution_count": null,
   "id": "93c5571b",
   "metadata": {},
   "outputs": [],
   "source": [
    "print(read_genres.describe())"
   ]
  },
  {
   "cell_type": "code",
   "execution_count": null,
   "id": "857dc026",
   "metadata": {},
   "outputs": [],
   "source": [
    "print(read_genres.head(4))"
   ]
  },
  {
   "cell_type": "code",
   "execution_count": null,
   "id": "866448f1",
   "metadata": {},
   "outputs": [],
   "source": [
    "print(read_genres['id'].isna().sum())\n",
    "print(read_genres['name'].isna().sum())"
   ]
  },
  {
   "cell_type": "code",
   "execution_count": null,
   "id": "53baaacc",
   "metadata": {},
   "outputs": [],
   "source": [
    "print(type(read_genres))"
   ]
  },
  {
   "cell_type": "code",
   "execution_count": null,
   "id": "471fbc90",
   "metadata": {},
   "outputs": [],
   "source": [
    "read_overview = pd.read_csv(filepath_movies_overview)\n",
    "print(read_overview.columns)"
   ]
  },
  {
   "cell_type": "code",
   "execution_count": null,
   "id": "ace4be7a",
   "metadata": {},
   "outputs": [],
   "source": [
    "print(type(read_overview))"
   ]
  },
  {
   "cell_type": "code",
   "execution_count": null,
   "id": "8f994a92",
   "metadata": {},
   "outputs": [],
   "source": [
    "print(read_overview.head(4))"
   ]
  },
  {
   "cell_type": "code",
   "execution_count": null,
   "id": "5a31cb2f",
   "metadata": {},
   "outputs": [],
   "source": [
    "print(read_overview['genre_ids'].isna().sum())\n",
    "print(read_overview['overview'].isna().sum())\n",
    "print(read_overview['title'].isna().sum())"
   ]
  },
  {
   "cell_type": "code",
   "execution_count": null,
   "id": "120d05c8",
   "metadata": {},
   "outputs": [],
   "source": [
    "print(read_overview.head(4))\n",
    "print(read_genres.head(4))"
   ]
  },
  {
   "cell_type": "code",
   "execution_count": null,
   "id": "0f6de228",
   "metadata": {},
   "outputs": [],
   "source": [
    "print(type(read_genres))\n",
    "print(read_genres.size)"
   ]
  },
  {
   "cell_type": "code",
   "execution_count": null,
   "id": "d8ce79eb",
   "metadata": {},
   "outputs": [],
   "source": [
    "print(type(read_overview))\n",
    "print(read_overview.size)"
   ]
  },
  {
   "cell_type": "code",
   "execution_count": null,
   "id": "da17d252",
   "metadata": {},
   "outputs": [],
   "source": [
    "print(read_overview[read_overview['genre_ids'].apply(lambda row : row == '[18, 80]')])"
   ]
  },
  {
   "cell_type": "code",
   "execution_count": null,
   "id": "ca56740d",
   "metadata": {},
   "outputs": [],
   "source": [
    "read_overview['genre_ids'] = read_overview['genre_ids'].apply(ast.literal_eval)"
   ]
  },
  {
   "cell_type": "code",
   "execution_count": null,
   "id": "d57934c2",
   "metadata": {},
   "outputs": [],
   "source": [
    "print(read_overview.info())"
   ]
  },
  {
   "cell_type": "code",
   "execution_count": null,
   "id": "5d7ddfd5",
   "metadata": {},
   "outputs": [],
   "source": [
    "print(read_overview[read_overview['genre_ids'].apply(lambda row : 18 in row or 80 in row)])"
   ]
  },
  {
   "cell_type": "code",
   "execution_count": null,
   "id": "e918a8b0",
   "metadata": {},
   "outputs": [],
   "source": [
    "print(read_overview['genre_ids'].head(4))"
   ]
  },
  {
   "cell_type": "code",
   "execution_count": null,
   "id": "97c29ac7",
   "metadata": {},
   "outputs": [],
   "source": [
    "print(read_genres.info())"
   ]
  },
  {
   "cell_type": "code",
   "execution_count": null,
   "id": "4402d1c3",
   "metadata": {},
   "outputs": [],
   "source": [
    "read_genres = dict(zip(read_genres['id'], read_genres['name']))"
   ]
  },
  {
   "cell_type": "code",
   "execution_count": null,
   "id": "06d1390b",
   "metadata": {},
   "outputs": [],
   "source": [
    "print(read_genres)"
   ]
  },
  {
   "cell_type": "code",
   "execution_count": null,
   "id": "f8854d17",
   "metadata": {},
   "outputs": [],
   "source": [
    "print(type(read_genres))"
   ]
  },
  {
   "cell_type": "code",
   "execution_count": null,
   "id": "953c1b6e",
   "metadata": {},
   "outputs": [],
   "source": [
    "read_overview['genre_ids'] = read_overview['genre_ids'].apply(lambda row: [read_genres.get(id, 'Unknown') for id in row])"
   ]
  },
  {
   "cell_type": "code",
   "execution_count": null,
   "id": "a0e43e07",
   "metadata": {},
   "outputs": [],
   "source": [
    "print(read_overview.head(4))"
   ]
  },
  {
   "cell_type": "code",
   "execution_count": null,
   "id": "fddc89b5",
   "metadata": {},
   "outputs": [],
   "source": [
    "features = read_overview['overview']\n",
    "print(features.shape)"
   ]
  },
  {
   "cell_type": "code",
   "execution_count": null,
   "id": "9cd87305",
   "metadata": {},
   "outputs": [],
   "source": [
    "target = read_overview['genre_ids'].apply(lambda x : x[0] if len(x) > 0 else \"Unknown\")\n",
    "print(target.shape)"
   ]
  },
  {
   "cell_type": "code",
   "execution_count": null,
   "id": "ae9e0e3e",
   "metadata": {},
   "outputs": [],
   "source": [
    "vectorizer = CountVectorizer()"
   ]
  },
  {
   "cell_type": "code",
   "execution_count": null,
   "id": "4902bba3",
   "metadata": {},
   "outputs": [],
   "source": [
    "features = vectorizer.fit_transform(features)"
   ]
  },
  {
   "cell_type": "code",
   "execution_count": null,
   "id": "a234dc96",
   "metadata": {},
   "outputs": [],
   "source": [
    "label_encoder = LabelEncoder()"
   ]
  },
  {
   "cell_type": "code",
   "execution_count": null,
   "id": "d5ddc61d",
   "metadata": {},
   "outputs": [],
   "source": [
    "target = label_encoder.fit_transform(target)\n",
    "print(target[:5])"
   ]
  },
  {
   "cell_type": "code",
   "execution_count": null,
   "id": "cca4484d",
   "metadata": {},
   "outputs": [],
   "source": [
    "x_train, x_test, y_train, y_test = train_test_split(features.toarray(), target, test_size=0.2, random_state=42)"
   ]
  },
  {
   "cell_type": "code",
   "execution_count": null,
   "id": "ebae53ca",
   "metadata": {},
   "outputs": [],
   "source": [
    "\n",
    "model = GaussianNB()"
   ]
  },
  {
   "cell_type": "code",
   "execution_count": null,
   "id": "02d3ba54",
   "metadata": {},
   "outputs": [],
   "source": [
    "model.fit(x_train, y_train)"
   ]
  },
  {
   "cell_type": "code",
   "execution_count": null,
   "id": "23255ed1",
   "metadata": {},
   "outputs": [],
   "source": [
    "y_predict = model.predict(x_test)"
   ]
  },
  {
   "cell_type": "code",
   "execution_count": null,
   "id": "34409ed7",
   "metadata": {},
   "outputs": [],
   "source": [
    "print(\"Model evalution: \")\n",
    "print(\"Model accuracy (per label):\")"
   ]
  },
  {
   "cell_type": "code",
   "execution_count": null,
   "id": "eec1ce90",
   "metadata": {},
   "outputs": [],
   "source": [
    "print((y_predict == y_test).mean(axis=0))"
   ]
  },
  {
   "cell_type": "code",
   "execution_count": null,
   "id": "f1864c5b",
   "metadata": {},
   "outputs": [],
   "source": [
    "from sklearn.metrics import accuracy_score"
   ]
  },
  {
   "cell_type": "code",
   "execution_count": null,
   "id": "9353d0be",
   "metadata": {},
   "outputs": [],
   "source": [
    "print(accuracy_score(y_predict, y_test))"
   ]
  }
 ],
 "metadata": {
  "kernelspec": {
   "display_name": "myenv",
   "language": "python",
   "name": "python3"
  },
  "language_info": {
   "codemirror_mode": {
    "name": "ipython",
    "version": 3
   },
   "file_extension": ".py",
   "mimetype": "text/x-python",
   "name": "python",
   "nbconvert_exporter": "python",
   "pygments_lexer": "ipython3",
   "version": "3.10.5"
  }
 },
 "nbformat": 4,
 "nbformat_minor": 5
}
