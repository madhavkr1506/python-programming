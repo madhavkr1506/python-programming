{
 "cells": [
  {
   "cell_type": "code",
   "execution_count": 2,
   "id": "dbab2995",
   "metadata": {},
   "outputs": [
    {
     "name": "stdout",
     "output_type": "stream",
     "text": [
      "Madhav\n"
     ]
    }
   ],
   "source": [
    "print(\"Madhav\")"
   ]
  },
  {
   "cell_type": "code",
   "execution_count": 3,
   "id": "f53a4120",
   "metadata": {},
   "outputs": [
    {
     "name": "stdout",
     "output_type": "stream",
     "text": [
      "2.2.3\n"
     ]
    }
   ],
   "source": [
    "import pandas as pd\n",
    "print(pd.__version__)"
   ]
  },
  {
   "cell_type": "code",
   "execution_count": 6,
   "id": "07bee295",
   "metadata": {},
   "outputs": [],
   "source": [
    "read_file = pd.read_csv(\"people-100.csv\", index_col='Index')"
   ]
  },
  {
   "cell_type": "code",
   "execution_count": 7,
   "id": "44aaf16c",
   "metadata": {},
   "outputs": [
    {
     "name": "stdout",
     "output_type": "stream",
     "text": [
      "               User Id First Name Last Name     Sex  \\\n",
      "Index                                                 \n",
      "1      88F7B33d2bcf9f5     Shelby   Terrell    Male   \n",
      "2      f90cD3E76f1A9b9    Phillip   Summers  Female   \n",
      "3      DbeAb8CcdfeFC2c   Kristine    Travis    Male   \n",
      "4      A31Bee3c201ef58    Yesenia  Martinez    Male   \n",
      "5      1bA7A3dc874da3c       Lori      Todd    Male   \n",
      "\n",
      "                            Email                   Phone Date of birth  \\\n",
      "Index                                                                     \n",
      "1            elijah57@example.net  001-084-906-7849x73518    1945-10-26   \n",
      "2           bethany14@example.com       214.112.6044x4913    1910-03-24   \n",
      "3           bthompson@example.com            277.609.7938    1992-07-02   \n",
      "4       kaitlinkaiser@example.com            584.094.6111    2017-08-03   \n",
      "5      buchananmanuel@example.net       689-207-3558x7233    1938-12-01   \n",
      "\n",
      "                Job Title  \n",
      "Index                      \n",
      "1         Games developer  \n",
      "2          Phytotherapist  \n",
      "3               Homeopath  \n",
      "4       Market researcher  \n",
      "5      Veterinary surgeon  \n"
     ]
    }
   ],
   "source": [
    "print(read_file.head())"
   ]
  },
  {
   "cell_type": "code",
   "execution_count": 14,
   "id": "0ea9ee55",
   "metadata": {},
   "outputs": [],
   "source": [
    "Shelby = read_file[read_file['First Name'] == 'Shelby']\n"
   ]
  },
  {
   "cell_type": "code",
   "execution_count": 15,
   "id": "ef592c53",
   "metadata": {},
   "outputs": [
    {
     "name": "stdout",
     "output_type": "stream",
     "text": [
      "               User Id First Name Last Name   Sex                 Email  \\\n",
      "Index                                                                     \n",
      "1      88F7B33d2bcf9f5     Shelby   Terrell  Male  elijah57@example.net   \n",
      "\n",
      "                        Phone Date of birth        Job Title  \n",
      "Index                                                         \n",
      "1      001-084-906-7849x73518    1945-10-26  Games developer  \n"
     ]
    }
   ],
   "source": [
    "print(Shelby)"
   ]
  },
  {
   "cell_type": "code",
   "execution_count": 18,
   "id": "6cf5085c",
   "metadata": {},
   "outputs": [],
   "source": [
    "get_first_name = read_file.get('First Name')"
   ]
  },
  {
   "cell_type": "code",
   "execution_count": 20,
   "id": "724fe986",
   "metadata": {},
   "outputs": [
    {
     "name": "stdout",
     "output_type": "stream",
     "text": [
      "Index\n",
      "1      Shelby\n",
      "2     Phillip\n",
      "3    Kristine\n",
      "4     Yesenia\n",
      "Name: First Name, dtype: object\n"
     ]
    }
   ],
   "source": [
    "print(get_first_name.head(4))"
   ]
  },
  {
   "cell_type": "code",
   "execution_count": 25,
   "id": "7f58b25d",
   "metadata": {},
   "outputs": [],
   "source": [
    "fetch_details_with_multiple_condition = read_file[(read_file['First Name'] == 'Phillip') | (read_file['First Name'] == 'Kristine')]"
   ]
  },
  {
   "cell_type": "code",
   "execution_count": 26,
   "id": "56882a5d",
   "metadata": {},
   "outputs": [
    {
     "data": {
      "text/html": [
       "<div>\n",
       "<style scoped>\n",
       "    .dataframe tbody tr th:only-of-type {\n",
       "        vertical-align: middle;\n",
       "    }\n",
       "\n",
       "    .dataframe tbody tr th {\n",
       "        vertical-align: top;\n",
       "    }\n",
       "\n",
       "    .dataframe thead th {\n",
       "        text-align: right;\n",
       "    }\n",
       "</style>\n",
       "<table border=\"1\" class=\"dataframe\">\n",
       "  <thead>\n",
       "    <tr style=\"text-align: right;\">\n",
       "      <th></th>\n",
       "      <th>User Id</th>\n",
       "      <th>First Name</th>\n",
       "      <th>Last Name</th>\n",
       "      <th>Sex</th>\n",
       "      <th>Email</th>\n",
       "      <th>Phone</th>\n",
       "      <th>Date of birth</th>\n",
       "      <th>Job Title</th>\n",
       "    </tr>\n",
       "    <tr>\n",
       "      <th>Index</th>\n",
       "      <th></th>\n",
       "      <th></th>\n",
       "      <th></th>\n",
       "      <th></th>\n",
       "      <th></th>\n",
       "      <th></th>\n",
       "      <th></th>\n",
       "      <th></th>\n",
       "    </tr>\n",
       "  </thead>\n",
       "  <tbody>\n",
       "    <tr>\n",
       "      <th>2</th>\n",
       "      <td>f90cD3E76f1A9b9</td>\n",
       "      <td>Phillip</td>\n",
       "      <td>Summers</td>\n",
       "      <td>Female</td>\n",
       "      <td>bethany14@example.com</td>\n",
       "      <td>214.112.6044x4913</td>\n",
       "      <td>1910-03-24</td>\n",
       "      <td>Phytotherapist</td>\n",
       "    </tr>\n",
       "    <tr>\n",
       "      <th>3</th>\n",
       "      <td>DbeAb8CcdfeFC2c</td>\n",
       "      <td>Kristine</td>\n",
       "      <td>Travis</td>\n",
       "      <td>Male</td>\n",
       "      <td>bthompson@example.com</td>\n",
       "      <td>277.609.7938</td>\n",
       "      <td>1992-07-02</td>\n",
       "      <td>Homeopath</td>\n",
       "    </tr>\n",
       "  </tbody>\n",
       "</table>\n",
       "</div>"
      ],
      "text/plain": [
       "               User Id First Name Last Name     Sex                  Email  \\\n",
       "Index                                                                        \n",
       "2      f90cD3E76f1A9b9    Phillip   Summers  Female  bethany14@example.com   \n",
       "3      DbeAb8CcdfeFC2c   Kristine    Travis    Male  bthompson@example.com   \n",
       "\n",
       "                   Phone Date of birth       Job Title  \n",
       "Index                                                   \n",
       "2      214.112.6044x4913    1910-03-24  Phytotherapist  \n",
       "3           277.609.7938    1992-07-02       Homeopath  "
      ]
     },
     "execution_count": 26,
     "metadata": {},
     "output_type": "execute_result"
    }
   ],
   "source": [
    "fetch_details_with_multiple_condition"
   ]
  },
  {
   "cell_type": "code",
   "execution_count": 27,
   "id": "75be2c4a",
   "metadata": {},
   "outputs": [],
   "source": [
    "read_file['Full-Name'] = read_file['First Name'] + \" \" + read_file['Last Name']"
   ]
  },
  {
   "cell_type": "code",
   "execution_count": 28,
   "id": "39dd4007",
   "metadata": {},
   "outputs": [
    {
     "name": "stdout",
     "output_type": "stream",
     "text": [
      "               User Id First Name Last Name     Sex  \\\n",
      "Index                                                 \n",
      "1      88F7B33d2bcf9f5     Shelby   Terrell    Male   \n",
      "2      f90cD3E76f1A9b9    Phillip   Summers  Female   \n",
      "3      DbeAb8CcdfeFC2c   Kristine    Travis    Male   \n",
      "4      A31Bee3c201ef58    Yesenia  Martinez    Male   \n",
      "5      1bA7A3dc874da3c       Lori      Todd    Male   \n",
      "\n",
      "                            Email                   Phone Date of birth  \\\n",
      "Index                                                                     \n",
      "1            elijah57@example.net  001-084-906-7849x73518    1945-10-26   \n",
      "2           bethany14@example.com       214.112.6044x4913    1910-03-24   \n",
      "3           bthompson@example.com            277.609.7938    1992-07-02   \n",
      "4       kaitlinkaiser@example.com            584.094.6111    2017-08-03   \n",
      "5      buchananmanuel@example.net       689-207-3558x7233    1938-12-01   \n",
      "\n",
      "                Job Title         Full-Name  \n",
      "Index                                        \n",
      "1         Games developer    Shelby Terrell  \n",
      "2          Phytotherapist   Phillip Summers  \n",
      "3               Homeopath   Kristine Travis  \n",
      "4       Market researcher  Yesenia Martinez  \n",
      "5      Veterinary surgeon         Lori Todd  \n"
     ]
    }
   ],
   "source": [
    "print(read_file.head())"
   ]
  },
  {
   "cell_type": "code",
   "execution_count": 30,
   "id": "fa8484a1",
   "metadata": {},
   "outputs": [],
   "source": [
    "read_file['Contacts'] = read_file.apply(lambda row: row['Email'] + \" \" + row['Phone'], axis = 1)"
   ]
  },
  {
   "cell_type": "code",
   "execution_count": 31,
   "id": "75ac9176",
   "metadata": {},
   "outputs": [
    {
     "name": "stdout",
     "output_type": "stream",
     "text": [
      "               User Id First Name Last Name     Sex  \\\n",
      "Index                                                 \n",
      "1      88F7B33d2bcf9f5     Shelby   Terrell    Male   \n",
      "2      f90cD3E76f1A9b9    Phillip   Summers  Female   \n",
      "3      DbeAb8CcdfeFC2c   Kristine    Travis    Male   \n",
      "4      A31Bee3c201ef58    Yesenia  Martinez    Male   \n",
      "5      1bA7A3dc874da3c       Lori      Todd    Male   \n",
      "\n",
      "                            Email                   Phone Date of birth  \\\n",
      "Index                                                                     \n",
      "1            elijah57@example.net  001-084-906-7849x73518    1945-10-26   \n",
      "2           bethany14@example.com       214.112.6044x4913    1910-03-24   \n",
      "3           bthompson@example.com            277.609.7938    1992-07-02   \n",
      "4       kaitlinkaiser@example.com            584.094.6111    2017-08-03   \n",
      "5      buchananmanuel@example.net       689-207-3558x7233    1938-12-01   \n",
      "\n",
      "                Job Title         Full-Name  \\\n",
      "Index                                         \n",
      "1         Games developer    Shelby Terrell   \n",
      "2          Phytotherapist   Phillip Summers   \n",
      "3               Homeopath   Kristine Travis   \n",
      "4       Market researcher  Yesenia Martinez   \n",
      "5      Veterinary surgeon         Lori Todd   \n",
      "\n",
      "                                           Contacts  \n",
      "Index                                                \n",
      "1       elijah57@example.net 001-084-906-7849x73518  \n",
      "2           bethany14@example.com 214.112.6044x4913  \n",
      "3                bthompson@example.com 277.609.7938  \n",
      "4            kaitlinkaiser@example.com 584.094.6111  \n",
      "5      buchananmanuel@example.net 689-207-3558x7233  \n"
     ]
    }
   ],
   "source": [
    "print(read_file.head())"
   ]
  },
  {
   "cell_type": "code",
   "execution_count": 32,
   "id": "4df14d37",
   "metadata": {},
   "outputs": [],
   "source": [
    "read_file.to_csv(\"people-100.csv\", index=False)"
   ]
  },
  {
   "cell_type": "code",
   "execution_count": 16,
   "id": "59e3370d",
   "metadata": {},
   "outputs": [
    {
     "name": "stdout",
     "output_type": "stream",
     "text": [
      "           User Id First Name Last Name     Sex                       Email  \\\n",
      "0  88F7B33d2bcf9f5     Shelby   Terrell    Male        elijah57@example.net   \n",
      "1  f90cD3E76f1A9b9    Phillip   Summers  Female       bethany14@example.com   \n",
      "2  DbeAb8CcdfeFC2c   Kristine    Travis    Male       bthompson@example.com   \n",
      "3  A31Bee3c201ef58    Yesenia  Martinez    Male   kaitlinkaiser@example.com   \n",
      "4  1bA7A3dc874da3c       Lori      Todd    Male  buchananmanuel@example.net   \n",
      "\n",
      "                    Phone Date of birth           Job Title         Full-Name  \\\n",
      "0  001-084-906-7849x73518    1945-10-26     Games developer    Shelby Terrell   \n",
      "1       214.112.6044x4913    1910-03-24      Phytotherapist   Phillip Summers   \n",
      "2            277.609.7938    1992-07-02           Homeopath   Kristine Travis   \n",
      "3            584.094.6111    2017-08-03   Market researcher  Yesenia Martinez   \n",
      "4       689-207-3558x7233    1938-12-01  Veterinary surgeon         Lori Todd   \n",
      "\n",
      "                                       Contacts  \n",
      "0   elijah57@example.net 001-084-906-7849x73518  \n",
      "1       bethany14@example.com 214.112.6044x4913  \n",
      "2            bthompson@example.com 277.609.7938  \n",
      "3        kaitlinkaiser@example.com 584.094.6111  \n",
      "4  buchananmanuel@example.net 689-207-3558x7233  \n"
     ]
    }
   ],
   "source": [
    "read_file = pd.read_csv(\"people-100.csv\")\n",
    "print(read_file.head())"
   ]
  },
  {
   "cell_type": "code",
   "execution_count": 5,
   "id": "c38bed55",
   "metadata": {},
   "outputs": [
    {
     "name": "stdout",
     "output_type": "stream",
     "text": [
      "Index(['User Id', 'First Name', 'Last Name', 'Sex', 'Email', 'Phone',\n",
      "       'Date of birth', 'Job Title', 'Full-Name', 'Contacts'],\n",
      "      dtype='object')\n"
     ]
    }
   ],
   "source": [
    "print(read_file.columns)"
   ]
  },
  {
   "cell_type": "code",
   "execution_count": 6,
   "id": "b29d27f5",
   "metadata": {},
   "outputs": [],
   "source": [
    "read_file = read_file.groupby('Sex').count()"
   ]
  },
  {
   "cell_type": "code",
   "execution_count": 7,
   "id": "e77862f1",
   "metadata": {},
   "outputs": [
    {
     "name": "stdout",
     "output_type": "stream",
     "text": [
      "        User Id  First Name  Last Name  Email  Phone  Date of birth  \\\n",
      "Sex                                                                   \n",
      "Female       53          53         53     53     53             53   \n",
      "Male         47          47         47     47     47             47   \n",
      "\n",
      "        Job Title  Full-Name  Contacts  \n",
      "Sex                                     \n",
      "Female         53         53        53  \n",
      "Male           47         47        47  \n"
     ]
    }
   ],
   "source": [
    "print(read_file)"
   ]
  },
  {
   "cell_type": "code",
   "execution_count": 8,
   "id": "da34b909",
   "metadata": {},
   "outputs": [],
   "source": [
    "read_first_name = read_file.groupby('Sex')['First Name'].apply(lambda x : x.count())"
   ]
  },
  {
   "cell_type": "code",
   "execution_count": 9,
   "id": "b9abd56a",
   "metadata": {},
   "outputs": [
    {
     "name": "stdout",
     "output_type": "stream",
     "text": [
      "Sex\n",
      "Female    1\n",
      "Male      1\n",
      "Name: First Name, dtype: int64\n"
     ]
    }
   ],
   "source": [
    "print(read_first_name)"
   ]
  },
  {
   "cell_type": "code",
   "execution_count": 12,
   "id": "b7ca6410",
   "metadata": {},
   "outputs": [
    {
     "name": "stdout",
     "output_type": "stream",
     "text": [
      "Index(['User Id', 'First Name', 'Last Name', 'Email', 'Phone', 'Date of birth',\n",
      "       'Job Title', 'Full-Name', 'Contacts'],\n",
      "      dtype='object')\n"
     ]
    }
   ],
   "source": [
    "print(read_file.columns)"
   ]
  },
  {
   "cell_type": "code",
   "execution_count": 20,
   "id": "d2f701ca",
   "metadata": {},
   "outputs": [
    {
     "name": "stdout",
     "output_type": "stream",
     "text": [
      "['Games developer' 'Phytotherapist' 'Homeopath' 'Market researcher'\n",
      " 'Veterinary surgeon' 'Waste management officer' 'Intelligence analyst'\n",
      " 'Hydrogeologist' 'Lawyer' 'Engineer, site'\n",
      " 'Advertising account executive' 'Warden/ranger'\n",
      " 'Scientist, clinical (histocompatibility and immunogenetics)'\n",
      " 'Social worker' 'Agricultural consultant'\n",
      " 'Sport and exercise psychologist' 'Secretary/administrator'\n",
      " 'Audiological scientist' 'Teacher, adult education' 'Paediatric nurse'\n",
      " 'Scientist, marine' 'Commercial horticulturist'\n",
      " 'Outdoor activities/education manager' 'Drilling engineer'\n",
      " 'Systems analyst' 'Conservation officer, nature' 'Counsellor'\n",
      " 'Recycling officer' 'Art gallery manager' 'Gaffer' 'Food technologist'\n",
      " 'Building services engineer' 'Seismic interpreter' 'Engineer, biomedical'\n",
      " 'Set designer' 'Research scientist (life sciences)'\n",
      " 'Accountant, chartered management' 'Surveyor, quantity'\n",
      " 'Information systems manager' 'Accounting technician'\n",
      " 'Management consultant' 'Make' 'Retail banker' 'Commissioning editor'\n",
      " 'Jewellery designer' 'Education officer, museum'\n",
      " 'Estate manager/land agent' 'Physiotherapist'\n",
      " 'Passenger transport manager' 'Call centre manager'\n",
      " 'Special educational needs teacher' 'Museum/gallery exhibitions officer'\n",
      " 'Pension scheme manager' 'Archaeologist'\n",
      " 'Historic buildings inspector/conservation officer' 'Petroleum engineer'\n",
      " 'Curator' 'Neurosurgeon' 'Chiropractor' 'Biochemist, clinical'\n",
      " 'Scientist, water quality' 'Hydrologist' 'Hospital pharmacist'\n",
      " 'Warehouse manager' 'Physiological scientist'\n",
      " 'English as a second language teacher' 'Financial trader'\n",
      " 'Structural engineer' 'Race relations officer' 'Psychologist, forensic'\n",
      " 'Newspaper journalist' 'Public house manager'\n",
      " 'Careers information officer' 'Economist' 'Contracting civil engineer'\n",
      " 'Higher education lecturer' 'Lecturer, further education'\n",
      " 'Teacher, early years/pre' 'Travel agency manager'\n",
      " 'Technical sales engineer' 'Charity fundraiser' 'Patent attorney'\n",
      " 'Conservator, furniture' 'Dance movement psychotherapist'\n",
      " 'Financial planner' 'Air broker' 'Software engineer' 'Barrister'\n",
      " 'Police officer' 'Broadcast journalist' 'IT sales professional']\n"
     ]
    }
   ],
   "source": [
    "print(read_file['Job Title'].unique())"
   ]
  },
  {
   "cell_type": "code",
   "execution_count": null,
   "id": "7ff75baf",
   "metadata": {},
   "outputs": [],
   "source": []
  }
 ],
 "metadata": {
  "kernelspec": {
   "display_name": "myenv",
   "language": "python",
   "name": "python3"
  },
  "language_info": {
   "codemirror_mode": {
    "name": "ipython",
    "version": 3
   },
   "file_extension": ".py",
   "mimetype": "text/x-python",
   "name": "python",
   "nbconvert_exporter": "python",
   "pygments_lexer": "ipython3",
   "version": "3.10.5"
  }
 },
 "nbformat": 4,
 "nbformat_minor": 5
}
